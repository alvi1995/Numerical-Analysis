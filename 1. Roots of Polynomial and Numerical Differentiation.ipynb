{
 "cells": [
  {
   "cell_type": "markdown",
   "id": "ef332de7",
   "metadata": {},
   "source": [
    "# Roots of Polynomial"
   ]
  },
  {
   "cell_type": "markdown",
   "id": "6de0094c",
   "metadata": {},
   "source": [
    "### Order of Convergence"
   ]
  },
  {
   "cell_type": "markdown",
   "id": "bc1d61b9",
   "metadata": {},
   "source": [
    "error = |current value - actual value|\n",
    "\n",
    "Let's assume,\n",
    "\n",
    "each iteration has error that is related to it's previous iteration by some constant $\\textbf{M}$ and $\\alpha$\n",
    "\n",
    "$\\Large{\\epsilon_{n+1} = M{\\epsilon_{n}} ^{\\alpha}}$\n",
    "\n",
    "$\\Large{\\epsilon_{n} = M{\\epsilon_{n-1}} ^{\\alpha}}$\n",
    "\n",
    "$$\\frac{\\epsilon_{n+1}}{\\epsilon_{n}}=\\frac{{\\epsilon_{n}} ^{\\alpha}}{{\\epsilon_{n-1}} ^{\\alpha}}$$\n",
    "\n",
    "$\\Large{ln(\\frac{\\epsilon_{n+1}}{\\epsilon_{n}}) = ln(\\frac{{\\epsilon_{n}} ^{\\alpha}}{{\\epsilon_{n-1}} ^{\\alpha}})}$\n",
    "\n",
    "$$\\Large{\\alpha = \\frac{ln(\\frac{\\epsilon_{n+1}}{\\epsilon_{n}})}{ln(\\frac{{\\epsilon_{n}}}{{\\epsilon_{n-1}}})}}$$"
   ]
  },
  {
   "cell_type": "markdown",
   "id": "50baa1e2",
   "metadata": {},
   "source": [
    "## Bisection"
   ]
  },
  {
   "cell_type": "markdown",
   "id": "99441edf",
   "metadata": {},
   "source": [
    "It uses bolzano's theorem for evaluation\n",
    "\n",
    "$\\textbf{Theorem (Bolzano)}$: If a function $\\textbf{f(x)}$ is continuous on an interval $\\textbf{[a, b]}$ and $\\textbf{f(a)·f(b) < 0}$, then a value $\\textbf{c} \\in \\textbf{(a, b)}$ exist for which $\\textbf{f(c) = 0}$."
   ]
  },
  {
   "cell_type": "code",
   "execution_count": 2,
   "id": "6703505f",
   "metadata": {},
   "outputs": [],
   "source": [
    "import numpy as np\n",
    "import scipy as sc\n",
    "import sympy as sm\n",
    "import matplotlib.pyplot as plt\n",
    "from IPython.display import display,Math"
   ]
  },
  {
   "cell_type": "code",
   "execution_count": 3,
   "id": "783b6580",
   "metadata": {},
   "outputs": [],
   "source": [
    "def poly(x):\n",
    "    return x**2 -3*x + 2"
   ]
  },
  {
   "cell_type": "code",
   "execution_count": 4,
   "id": "113a6e39",
   "metadata": {},
   "outputs": [],
   "source": [
    "def bisection(xl,xr,e):\n",
    "    #xl = input('Enter left guess:') # xl = left hand guess\n",
    "    #xr = input('Enter right guess:') # right hand guess\n",
    "    xold = 0.1\n",
    "    \n",
    "    for i in range(1,100):\n",
    "        xnew = (xl+xr)/2 # xnew is the new guess derived from iteration or given initial values\n",
    "        if poly(xnew)*poly(xl) > 0:\n",
    "            xl = xnew\n",
    "        elif poly(xnew)*poly(xl) < 0:\n",
    "            xr = xnew\n",
    "        error = abs((xold-xnew)/xold)\n",
    "        if(error < e):\n",
    "            break\n",
    "        print(\"i=%g   xl=%f   xr=%f   xi=%f   x((i+1)=%f error=%f\" %(i,xl,xr,xold,xnew,error))\n",
    "        xold = xnew"
   ]
  },
  {
   "cell_type": "code",
   "execution_count": 5,
   "id": "0de5ec94",
   "metadata": {},
   "outputs": [
    {
     "name": "stdout",
     "output_type": "stream",
     "text": [
      "i=1   xl=0.900000   xr=1.200000   xi=0.100000   x((i+1)=1.200000 error=11.000000\n",
      "i=2   xl=0.900000   xr=1.050000   xi=1.200000   x((i+1)=1.050000 error=0.125000\n",
      "i=3   xl=0.975000   xr=1.050000   xi=1.050000   x((i+1)=0.975000 error=0.071429\n",
      "i=4   xl=0.975000   xr=1.012500   xi=0.975000   x((i+1)=1.012500 error=0.038462\n",
      "i=5   xl=0.993750   xr=1.012500   xi=1.012500   x((i+1)=0.993750 error=0.018519\n",
      "i=6   xl=0.993750   xr=1.003125   xi=0.993750   x((i+1)=1.003125 error=0.009434\n",
      "i=7   xl=0.998438   xr=1.003125   xi=1.003125   x((i+1)=0.998438 error=0.004673\n",
      "i=8   xl=0.998438   xr=1.000781   xi=0.998438   x((i+1)=1.000781 error=0.002347\n",
      "i=9   xl=0.999609   xr=1.000781   xi=1.000781   x((i+1)=0.999609 error=0.001171\n"
     ]
    }
   ],
   "source": [
    "bisection(.9,1.5,.0006)"
   ]
  },
  {
   "cell_type": "code",
   "execution_count": 6,
   "id": "a7a7d812",
   "metadata": {},
   "outputs": [],
   "source": [
    "def root3(x):\n",
    "    return x**2 - 3"
   ]
  },
  {
   "cell_type": "code",
   "execution_count": 7,
   "id": "f1c8dcc8",
   "metadata": {},
   "outputs": [],
   "source": [
    "def bisection(xl,xr,e):\n",
    "    #xl = input('Enter left guess:') # xl = left hand guess\n",
    "    #xr = input('Enter right guess:') # right hand guess\n",
    "    xold = 0.1\n",
    "    \n",
    "    for i in range(1,100):\n",
    "        xnew = (xl+xr)/2 # xnew is the new guess derived from iteration or given initial values\n",
    "        if root3(xnew)*root3(xl) > 0:\n",
    "            xl = xnew\n",
    "        elif root3(xnew)*root3(xl) < 0:\n",
    "            xr = xnew\n",
    "        error = abs((xold-xnew)/xold)\n",
    "        if(error < e):\n",
    "            break\n",
    "        print(\"i=%g   xl=%f   xr=%f   xi=%f   x(%g)=%f error=%f\" %(i,xl,xr,xold,i+1,xnew,error))\n",
    "        xold = xnew"
   ]
  },
  {
   "cell_type": "code",
   "execution_count": 8,
   "id": "e4862b2c",
   "metadata": {},
   "outputs": [
    {
     "name": "stdout",
     "output_type": "stream",
     "text": [
      "i=1   xl=1.500000   xr=2.000000   xi=0.100000   x(2)=1.500000 error=14.000000\n",
      "i=2   xl=1.500000   xr=1.750000   xi=1.500000   x(3)=1.750000 error=0.166667\n",
      "i=3   xl=1.625000   xr=1.750000   xi=1.750000   x(4)=1.625000 error=0.071429\n",
      "i=4   xl=1.687500   xr=1.750000   xi=1.625000   x(5)=1.687500 error=0.038462\n",
      "i=5   xl=1.718750   xr=1.750000   xi=1.687500   x(6)=1.718750 error=0.018519\n",
      "i=6   xl=1.718750   xr=1.734375   xi=1.718750   x(7)=1.734375 error=0.009091\n",
      "i=7   xl=1.726562   xr=1.734375   xi=1.734375   x(8)=1.726562 error=0.004505\n",
      "i=8   xl=1.730469   xr=1.734375   xi=1.726562   x(9)=1.730469 error=0.002262\n",
      "i=9   xl=1.730469   xr=1.732422   xi=1.730469   x(10)=1.732422 error=0.001129\n",
      "i=10   xl=1.731445   xr=1.732422   xi=1.732422   x(11)=1.731445 error=0.000564\n",
      "i=11   xl=1.731934   xr=1.732422   xi=1.731445   x(12)=1.731934 error=0.000282\n",
      "i=12   xl=1.731934   xr=1.732178   xi=1.731934   x(13)=1.732178 error=0.000141\n",
      "i=13   xl=1.731934   xr=1.732056   xi=1.732178   x(14)=1.732056 error=0.000070\n",
      "i=14   xl=1.731995   xr=1.732056   xi=1.732056   x(15)=1.731995 error=0.000035\n",
      "i=15   xl=1.732025   xr=1.732056   xi=1.731995   x(16)=1.732025 error=0.000018\n",
      "i=16   xl=1.732040   xr=1.732056   xi=1.732025   x(17)=1.732040 error=0.000009\n",
      "i=17   xl=1.732048   xr=1.732056   xi=1.732040   x(18)=1.732048 error=0.000004\n",
      "i=18   xl=1.732048   xr=1.732052   xi=1.732048   x(19)=1.732052 error=0.000002\n",
      "i=19   xl=1.732050   xr=1.732052   xi=1.732052   x(20)=1.732050 error=0.000001\n"
     ]
    }
   ],
   "source": [
    "bisection(1,2,1e-6)"
   ]
  },
  {
   "cell_type": "code",
   "execution_count": 9,
   "id": "973bac5c",
   "metadata": {},
   "outputs": [],
   "source": [
    "def root5(x):\n",
    "    return x**2 - 5"
   ]
  },
  {
   "cell_type": "code",
   "execution_count": 10,
   "id": "e516b351",
   "metadata": {},
   "outputs": [
    {
     "name": "stdout",
     "output_type": "stream",
     "text": [
      "i=1   xl=2.500000   xr=2.000000   xi=0.100000   x(2)=2.500000 error=24.000000\n",
      "i=2   xl=2.250000   xr=2.000000   xi=2.500000   x(3)=2.250000 error=0.100000\n",
      "i=3   xl=2.125000   xr=2.000000   xi=2.250000   x(4)=2.125000 error=0.055556\n",
      "i=4   xl=2.062500   xr=2.000000   xi=2.125000   x(5)=2.062500 error=0.029412\n",
      "i=5   xl=2.031250   xr=2.000000   xi=2.062500   x(6)=2.031250 error=0.015152\n",
      "i=6   xl=2.015625   xr=2.000000   xi=2.031250   x(7)=2.015625 error=0.007692\n",
      "i=7   xl=2.007812   xr=2.000000   xi=2.015625   x(8)=2.007812 error=0.003876\n",
      "i=8   xl=2.003906   xr=2.000000   xi=2.007812   x(9)=2.003906 error=0.001946\n",
      "i=9   xl=2.001953   xr=2.000000   xi=2.003906   x(10)=2.001953 error=0.000975\n",
      "i=10   xl=2.000977   xr=2.000000   xi=2.001953   x(11)=2.000977 error=0.000488\n",
      "i=11   xl=2.000488   xr=2.000000   xi=2.000977   x(12)=2.000488 error=0.000244\n",
      "i=12   xl=2.000244   xr=2.000000   xi=2.000488   x(13)=2.000244 error=0.000122\n",
      "i=13   xl=2.000122   xr=2.000000   xi=2.000244   x(14)=2.000122 error=0.000061\n",
      "i=14   xl=2.000061   xr=2.000000   xi=2.000122   x(15)=2.000061 error=0.000031\n",
      "i=15   xl=2.000031   xr=2.000000   xi=2.000061   x(16)=2.000031 error=0.000015\n",
      "i=16   xl=2.000015   xr=2.000000   xi=2.000031   x(17)=2.000015 error=0.000008\n",
      "i=17   xl=2.000008   xr=2.000000   xi=2.000015   x(18)=2.000008 error=0.000004\n",
      "i=18   xl=2.000004   xr=2.000000   xi=2.000008   x(19)=2.000004 error=0.000002\n"
     ]
    }
   ],
   "source": [
    "bisection(3,2,1e-6)"
   ]
  },
  {
   "cell_type": "code",
   "execution_count": 11,
   "id": "0423f59a",
   "metadata": {},
   "outputs": [
    {
     "data": {
      "image/png": "[encoded data removed]",
      "text/plain": [
       "<Figure size 1200x400 with 1 Axes>"
      ]
     },
     "metadata": {
      "needs_background": "light"
     },
     "output_type": "display_data"
    }
   ],
   "source": [
    "x = np.linspace(-2, 2, num=100, endpoint=True)\n",
    "y = poly(x)\n",
    "\n",
    "fig = plt.figure(figsize=(6,2), dpi=200)\n",
    "ax = fig.add_axes([0.9, 0.3, 0.7, 0.9]) # left, bottom, width, height (range 0 to 1)\n",
    "ax.plot(x, y, 'r')\n",
    "\n",
    "ax.set_xlabel('x')\n",
    "ax.set_ylabel('y')\n",
    "ax.set_title('Bisection');\n",
    "ax.spines['left'].set_position('center')\n",
    "ax.spines['right'].set_color('none')\n",
    "ax.spines['top'].set_color('none')\n",
    "ax.xaxis.set_ticks_position('bottom')\n",
    "ax.yaxis.set_ticks_position('left')"
   ]
  },
  {
   "cell_type": "markdown",
   "id": "985eda69",
   "metadata": {},
   "source": [
    "### convergence"
   ]
  },
  {
   "cell_type": "markdown",
   "id": "ded11d5a",
   "metadata": {},
   "source": [
    "$|r-c_{n}| \\le \\frac{b_{n}-a_{n}}{2}$\n",
    "\n",
    "$|r-c_{1}| \\le \\frac{b-a}{2}$  $c_{1} = \\frac{a+b}{2}$\n",
    "\n",
    "$|r-c_{2}| \\le \\frac{b-a}{2}$ Here a or b can be $c_{1}$ for both cases $|r-c_{2}| \\le \\frac{b-a}{2^{2}}$\n",
    "\n",
    ".........................................................................................................\n",
    "\n",
    "$|r-c_{n}| \\le \\frac{b-a}{2^{n}}$"
   ]
  },
  {
   "cell_type": "markdown",
   "id": "c358e4ff",
   "metadata": {},
   "source": [
    "## Newton's Method "
   ]
  },
  {
   "cell_type": "code",
   "execution_count": 246,
   "id": "57550584",
   "metadata": {},
   "outputs": [],
   "source": [
    "def root3(x):\n",
    "    return x**2 - 3"
   ]
  },
  {
   "cell_type": "code",
   "execution_count": 247,
   "id": "4d0757b4",
   "metadata": {},
   "outputs": [],
   "source": [
    "x = sm.symbols('x')\n",
    "\n",
    "f = x**2 - 3\n",
    "df = sm.diff(f,x)\n",
    "\n",
    "def newton_method(xi):\n",
    "    \n",
    "    xs = xi\n",
    "    for i in range(0,4):\n",
    "        \n",
    "        xs = xs - f.subs(x,xs)/df.subs(x,xs)\n",
    "        print(float(xs))"
   ]
  },
  {
   "cell_type": "code",
   "execution_count": 248,
   "id": "0ef7fca4",
   "metadata": {},
   "outputs": [
    {
     "name": "stdout",
     "output_type": "stream",
     "text": [
      "2.0\n",
      "1.75\n",
      "1.7321428571428572\n",
      "1.7320508100147276\n"
     ]
    }
   ],
   "source": [
    "newton_method(1)"
   ]
  },
  {
   "cell_type": "code",
   "execution_count": 249,
   "id": "b0d1ebb7",
   "metadata": {},
   "outputs": [],
   "source": [
    "x = sm.symbols('x')\n",
    "\n",
    "f = x**2 - 5\n",
    "df = sm.diff(f,x)\n",
    "\n",
    "def newton_method(xi):\n",
    "    \n",
    "    xs = xi\n",
    "    for i in range(0,4):\n",
    "        \n",
    "        xs = xs - f.subs(x,xs)/df.subs(x,xs)\n",
    "        print(float(xs))\n"
   ]
  },
  {
   "cell_type": "code",
   "execution_count": 250,
   "id": "45f700c0",
   "metadata": {},
   "outputs": [
    {
     "name": "stdout",
     "output_type": "stream",
     "text": [
      "2.25\n",
      "2.236111111111111\n",
      "2.236067977915804\n",
      "2.23606797749979\n"
     ]
    }
   ],
   "source": [
    "newton_method(2)"
   ]
  },
  {
   "cell_type": "markdown",
   "id": "de1ebf6c",
   "metadata": {},
   "source": [
    "## False Position Method"
   ]
  },
  {
   "cell_type": "code",
   "execution_count": 251,
   "id": "1013341c",
   "metadata": {},
   "outputs": [],
   "source": [
    "def falseposition(xl,xr,e):\n",
    "    # xl = left hand guess\n",
    "    # right hand guess\n",
    "    xold = 0.1\n",
    "    \n",
    "    for i in range(1,100):\n",
    "        xnew = xr - poly(xr)*((xr-xl)/(poly(xr)-poly(xl))) # xnew is the new guess derived from iteration or given initial values\n",
    "        if poly(xnew)*poly(xl) > 0:\n",
    "            xl = xnew\n",
    "        elif poly(xnew)*poly(xl) < 0:\n",
    "            xr = xnew\n",
    "        error = abs((xold-xnew)/xold)\n",
    "        if(error < e):\n",
    "            break\n",
    "        print(\"i=%g   xl=%f   xr=%f   xi=%f   x((i+1)=%f error=%f\" %(i,xl,xr,xold,xnew,error))\n",
    "        xold = xnew"
   ]
  },
  {
   "cell_type": "code",
   "execution_count": 252,
   "id": "4affc85c",
   "metadata": {},
   "outputs": [
    {
     "name": "stdout",
     "output_type": "stream",
     "text": [
      "i=1   xl=1.812500   xr=2.300000   xi=0.100000   x((i+1)=1.812500 error=17.125000\n",
      "i=2   xl=1.949438   xr=2.300000   xi=1.812500   x((i+1)=1.949438 error=0.075552\n",
      "i=3   xl=1.987860   xr=2.300000   xi=1.949438   x((i+1)=1.987860 error=0.019709\n",
      "i=4   xl=1.997172   xr=2.300000   xi=1.987860   x((i+1)=1.997172 error=0.004685\n",
      "i=5   xl=1.999346   xr=2.300000   xi=1.997172   x((i+1)=1.999346 error=0.001089\n",
      "i=6   xl=1.999849   xr=2.300000   xi=1.999346   x((i+1)=1.999849 error=0.000252\n",
      "i=7   xl=1.999965   xr=2.300000   xi=1.999849   x((i+1)=1.999965 error=0.000058\n"
     ]
    }
   ],
   "source": [
    "falseposition(1.5,2.3,.00005)"
   ]
  },
  {
   "cell_type": "markdown",
   "id": "f3614531",
   "metadata": {},
   "source": [
    "## Secant's Method"
   ]
  },
  {
   "cell_type": "markdown",
   "id": "19b32280",
   "metadata": {},
   "source": [
    "## if f(x) is not differentiable we use secant to estimate a f'(x) Thus \n",
    "\n",
    "$$x_{n+1} = x_{n} - \\frac{f(x_{n})}{f'(x_{n})}$$\n",
    "$$f'(x) = \\frac{f(x_{n})-f(x_{n-1})}{x_{n}-x_{n-1}}$$\n",
    "\n",
    "Chance of diverge when close to roots"
   ]
  },
  {
   "cell_type": "code",
   "execution_count": 253,
   "id": "2a2f31e1",
   "metadata": {},
   "outputs": [],
   "source": [
    "def root3(x):\n",
    "    return x**2 - 3"
   ]
  },
  {
   "cell_type": "code",
   "execution_count": 254,
   "id": "481f441a",
   "metadata": {},
   "outputs": [],
   "source": [
    "def secant_method(x0,x1):\n",
    "    \n",
    "    x = np.zeros(9)\n",
    "    x[0] = x0\n",
    "    x[1] = x1\n",
    "    \n",
    "    for i in range(0,7):\n",
    "        \n",
    "        x[i+2] = x[i+1] - (root3(x[i+1])*(x[i+1]-x[i]))/(root3(x[i+1])-root3(x[i]))\n",
    "        print(x[i+2])\n",
    "    "
   ]
  },
  {
   "cell_type": "code",
   "execution_count": 255,
   "id": "713ebabd",
   "metadata": {},
   "outputs": [
    {
     "name": "stdout",
     "output_type": "stream",
     "text": [
      "1.6666666666666667\n",
      "1.7272727272727273\n",
      "1.7321428571428572\n",
      "1.7320506804317222\n",
      "1.732050807565499\n",
      "1.7320508075688772\n",
      "1.7320508075688774\n"
     ]
    }
   ],
   "source": [
    "secant_method(1,2)"
   ]
  },
  {
   "cell_type": "code",
   "execution_count": 256,
   "id": "9b9f542f",
   "metadata": {},
   "outputs": [],
   "source": [
    "def root5(x):\n",
    "    return x**2 - 5"
   ]
  },
  {
   "cell_type": "code",
   "execution_count": 257,
   "id": "71bf13a2",
   "metadata": {},
   "outputs": [],
   "source": [
    "def secant_method(x0,x1):\n",
    "    \n",
    "    x = np.zeros(9)\n",
    "    x[0] = x0\n",
    "    x[1] = x1\n",
    "    \n",
    "    for i in range(0,7):\n",
    "        \n",
    "        x[i+2] = x[i+1] - (root5(x[i+1])*(x[i+1]-x[i]))/(root5(x[i+1])-root5(x[i]))\n",
    "        print(x[i+2])\n",
    "    "
   ]
  },
  {
   "cell_type": "code",
   "execution_count": 258,
   "id": "30a4e1ea",
   "metadata": {},
   "outputs": [
    {
     "name": "stdout",
     "output_type": "stream",
     "text": [
      "2.2\n",
      "2.238095238095238\n",
      "2.236051502145923\n",
      "2.236067970034716\n",
      "2.2360679774998173\n",
      "2.23606797749979\n",
      "2.23606797749979\n"
     ]
    }
   ],
   "source": [
    "secant_method(3,2)"
   ]
  },
  {
   "cell_type": "markdown",
   "id": "357acbc2",
   "metadata": {},
   "source": [
    "## Convergence"
   ]
  },
  {
   "cell_type": "markdown",
   "id": "92080f09",
   "metadata": {},
   "source": [
    "### f(x) = 0\n",
    "### roots extimated $x_{0},x_{1},x_{2},x_{3},.........$\n",
    "### root r\n",
    "### error = $\\epsilon_{n} = r - x_{n}$\n",
    "### $\\epsilon_{n+1} = k(|\\epsilon_{n}|)^{p}$\n",
    "### method is order of p\n",
    "\n",
    "## for newton's method \n",
    "\n",
    "$$x_{n+1} = x_{n} - \\frac{f(x_{n})}{f'(x_{n})}$$\n",
    "\n",
    "$$\\epsilon_{n} = r - x_{n}$$\n",
    "$$r-x_{n+1} = r-x_{n} + \\frac{f(x_{n}}{f'(x_{n})}$$\n",
    "$$\\epsilon_{n+1} = \\epsilon_{n} + \\frac{f(r - x_{n})}{f'(r - x_{n})}$$"
   ]
  },
  {
   "cell_type": "code",
   "execution_count": 259,
   "id": "2c2b456a",
   "metadata": {},
   "outputs": [
    {
     "data": {
      "image/png": "[encoded data removed]",
      "text/latex": [
       "$\\displaystyle \\left\\{ \\frac{1}{2} - \\frac{\\sqrt{5}}{2} : 1, \\  \\frac{1}{2} + \\frac{\\sqrt{5}}{2} : 1\\right\\}$"
      ],
      "text/plain": [
       "⎧1   √5     1   √5   ⎫\n",
       "⎨─ - ──: 1, ─ + ──: 1⎬\n",
       "⎩2   2      2   2    ⎭"
      ]
     },
     "metadata": {},
     "output_type": "display_data"
    }
   ],
   "source": [
    "c = [1, -1, -1]\n",
    "\n",
    "display(sm.roots(c))"
   ]
  },
  {
   "cell_type": "code",
   "execution_count": 260,
   "id": "7e2b4acd",
   "metadata": {},
   "outputs": [
    {
     "data": {
      "image/png": "[encoded data removed]",
      "text/latex": [
       "$\\displaystyle \\left\\{ -1 : 1, \\  1 : 1, \\  - \\frac{1}{2} - \\frac{\\sqrt{3} i}{2} : 1, \\  - \\frac{1}{2} + \\frac{\\sqrt{3} i}{2} : 1, \\  \\frac{1}{2} - \\frac{\\sqrt{3} i}{2} : 1, \\  \\frac{1}{2} + \\frac{\\sqrt{3} i}{2} : 1\\right\\}$"
      ],
      "text/plain": [
       "⎧               1   √3⋅ⅈ       1   √3⋅ⅈ     1   √3⋅ⅈ     1   √3⋅ⅈ   ⎫\n",
       "⎨-1: 1, 1: 1, - ─ - ────: 1, - ─ + ────: 1, ─ - ────: 1, ─ + ────: 1⎬\n",
       "⎩               2    2         2    2       2    2       2    2     ⎭"
      ]
     },
     "execution_count": 260,
     "metadata": {},
     "output_type": "execute_result"
    }
   ],
   "source": [
    "c = [1, 0, 0, 0, 0, 0, -1]\n",
    "\n",
    "sm.roots(c)"
   ]
  },
  {
   "cell_type": "markdown",
   "id": "d1a50bba",
   "metadata": {},
   "source": [
    "## Dekker's Method"
   ]
  },
  {
   "cell_type": "code",
   "execution_count": 1,
   "id": "e39c0f3c",
   "metadata": {},
   "outputs": [],
   "source": [
    "import numpy as np\n",
    "import matplotlib.pyplot as plt\n",
    "from matplotlib import animation \n",
    "from IPython import display"
   ]
  },
  {
   "cell_type": "code",
   "execution_count": 2,
   "id": "0baa16c9",
   "metadata": {},
   "outputs": [],
   "source": [
    "# function definition\n",
    "def function(x):\n",
    "    \n",
    "    return x**3 - x**2 - x - 1\n",
    "\n",
    "# driver program\n",
    "def drekker(a,b,tol):\n",
    "    # a,b contains the root\n",
    "    \n",
    "    # b to be better choice, we want the roots to close to b than a, that we make b's trend to go to f(b)~0 \n",
    "    # so to ensure that we will swap in case |f(a)|>|f(b)|\n",
    "    if abs(function(a)) < abs(function(b)):\n",
    "        a = a+b\n",
    "        b = a-b\n",
    "        a = a-b\n",
    "    \n",
    "    c = a # initially but it will store previous value of b\n",
    "    \n",
    "    err = np.inf\n",
    "    \n",
    "    i = 0 # number of iteration\n",
    "    while err > tol:\n",
    "        \n",
    "        i = i + 1\n",
    "        # midpoint\n",
    "        m = (a+b)/2\n",
    "    \n",
    "        # finding roots\n",
    "        #(a)\n",
    "        if abs(function(b)-function(c)) != 0: # seccant method converge\n",
    "            s = b - function(b)*(c-b)/(function(c)-function(b))\n",
    "        #(b)\n",
    "        else:    # seccant method diverges       \n",
    "            s = m\n",
    "        \n",
    "        # new a,b,c\n",
    "        c = b # c becomes the old b\n",
    "        \n",
    "        if abs(b-m) > abs(s-m):\n",
    "            b = s\n",
    "        else:\n",
    "            b = m\n",
    "        if function(b)*function(a) > 0:\n",
    "            a = c\n",
    "            \n",
    "        err = abs(b-a)\n",
    "    return b"
   ]
  },
  {
   "cell_type": "code",
   "execution_count": 4,
   "id": "39674e25",
   "metadata": {},
   "outputs": [
    {
     "data": {
      "text/plain": [
       "1.8392867008955887"
      ]
     },
     "execution_count": 4,
     "metadata": {},
     "output_type": "execute_result"
    }
   ],
   "source": [
    "root=drekker(1,2,1e-7)\n",
    "root"
   ]
  },
  {
   "cell_type": "markdown",
   "id": "01b243b9",
   "metadata": {},
   "source": [
    "## Muller's Method"
   ]
  },
  {
   "cell_type": "markdown",
   "id": "88d8a665",
   "metadata": {},
   "source": [
    "### done with three point to construct a quadric polynomials and find it's x crossing to get new root estimates\n",
    "\n",
    "$$f(x) = a(x-x_{2})^{2}+b(x-x_{2})+c\\text{ three point's } (x_{0},x_{1},x_{2})$$ \n",
    "\n",
    "$$f(x_{0}) = a(x_{0}-x_{2})^{2}+b(x_{0}-x_{2})+c$$\n",
    "\n",
    "$$f(x_{1}) = a(x_{1}-x_{2})^{2}+b(x_{1}-x_{2})+c$$\n",
    "\n",
    "$$f(x_{2}) = a(x_{2}-x_{2})^{2}+b(x_{2}-x_{2})+c \\text{ } \\therefore \\text{ } c = f(x_{2})$$\n",
    "\n",
    "$$h_{0}=x_{1}-x_{0}, \\text{ }h_{1}=x_{2}-x_{1}, \\text{ } \\delta_{1}=\\frac{f(x_{2})-f(x_{1})}{(x_{2}-x_{1})}, \\text{ } \\delta_{0}=\\frac{f(x_{1})-f(x_{0})}{(x_{1}-x_{0})}, \\text{ } h_{1} + h_{0} = x_{2}-x_{0}$$\n",
    "\n",
    "$$f(x_{2})-f(x_{1}) = b(x_{2}-x_{1})-a(x_{2}-x_{1})^{2} \\text{  }\\Rightarrow \\text{ } \\frac{f(x_{2})-f(x_{1})}{(x_{2}-x_{1})} = b - a(x_{2}-x_{1}) \\text{ } \\therefore b-ah_{1}=\\delta_{1}$$\n",
    "\n",
    "$$f(x_{1})-f(x_{0}) = a(x_{1}-x_{2})^{2}-a(x_{0}-x_{2})^{2}+b(x_{1}-x_{0}) \\Rightarrow \\delta_{0} = \\frac{ah_{1}^{2}}{h_{0}}-\\frac{a(h_{1}+h_{0})^{2}}{h_{0}}+b$$\n",
    "\n",
    "$$\\delta_{0}h_{0} = -ah_{0}(2h_{1}+h_{0})+bh_{0}$$\n",
    "\n",
    "$$a = \\frac{(\\delta_{1}-\\delta_{0})}{h_{1}+h_{0}}$$\n",
    "\n",
    "## Finally,\n",
    "\n",
    "### $$a = \\frac{(\\delta_{1}-\\delta_{0})}{h_{1}+h_{0}}$$\n",
    "### $$b-ah_{1}=\\delta_{1}$$\n",
    "### $$c = f(x_{2})$$\n",
    "\n",
    "## $f(x) = x^{3}-13x-12$ with $x_{0}=4.5, x_{1}=5.5, x_{2}=5, x=\\{-3,-1,4\\}$"
   ]
  },
  {
   "cell_type": "code",
   "execution_count": 261,
   "id": "de4975ba",
   "metadata": {},
   "outputs": [],
   "source": [
    "def f(x):\n",
    "    return x**3-13*x-12"
   ]
  },
  {
   "cell_type": "code",
   "execution_count": 262,
   "id": "d3673e66",
   "metadata": {},
   "outputs": [],
   "source": [
    "def muller_s_m(x0,x1,x2,eps):\n",
    "    \n",
    "    # defining parameters\n",
    "    \n",
    "    e = abs((x2-x1)/(x2));\n",
    "    \n",
    "    for i in range(0,20):\n",
    "        \n",
    "        h0 = x1-x0; h1 = x2-x1;\n",
    "        delta_1 = (f(x2)-f(x1))/(x2-x1); delta_0 = (f(x1)-f(x0))/(x1-x0);\n",
    "        c = f(x2);\n",
    "    \n",
    "        # defining the matrix\n",
    "        A = np.array([[-h0*(2*h1+h0), h0],\n",
    "        [-h1, 1]])\n",
    "\n",
    "        B = np.array([[delta_0*h0],\n",
    "                [delta_1]])\n",
    "        \n",
    "        # finding a,b\n",
    "        [a,b] = np.linalg.solve(A,B)\n",
    "    \n",
    "        # solve for x\n",
    "        x = np.roots([a,b,c]);\n",
    "        \n",
    "        display(Math('i=%g \\\\text{ } h_{0}=%f \\\\text{ } h_{1}=%f \\\\text{ } \\delta_{1}=%f \\\\text{ } \\\n",
    "                     \\delta_{0}=%f \\\\text{ } x_{0}=%f \\\\text{ } x_{1}=%f \\\\text{ }x_{2}=%f, e=%f' \\\n",
    "                     %(i,h0,h1,delta_1,delta_0,x0,x1,x2,e)))\n",
    "        \n",
    "        x0 = x1;\n",
    "        x1 = x2;\n",
    "        x2 = x[0] > x[1] and x2 + x[0] or x2 + x[1]\n",
    "        \n",
    "        e = abs((x2-x1)/(x2))\n",
    "        \n",
    "        if(e < eps):\n",
    "            break"
   ]
  },
  {
   "cell_type": "code",
   "execution_count": 263,
   "id": "63aeda24",
   "metadata": {},
   "outputs": [
    {
     "name": "stderr",
     "output_type": "stream",
     "text": [
      "C:\\Users\\alvi93\\anaconda3\\lib\\site-packages\\numpy\\core\\_asarray.py:171: VisibleDeprecationWarning: Creating an ndarray from ragged nested sequences (which is a list-or-tuple of lists-or-tuples-or ndarrays with different lengths or shapes) is deprecated. If you meant to do this, you must specify 'dtype=object' when creating the ndarray.\n",
      "  return array(a, dtype, copy=False, order=order, subok=True)\n"
     ]
    },
    {
     "data": {
      "text/latex": [
       "$\\displaystyle i=0 \\text{ } h_{0}=1.000000 \\text{ } h_{1}=-0.500000 \\text{ } \\delta_{1}=69.750000 \\text{ }                      \\delta_{0}=62.250000 \\text{ } x_{0}=4.500000 \\text{ } x_{1}=5.500000 \\text{ }x_{2}=5.000000, e=0.100000$"
      ],
      "text/plain": [
       "<IPython.core.display.Math object>"
      ]
     },
     "metadata": {},
     "output_type": "display_data"
    },
    {
     "data": {
      "text/latex": [
       "$\\displaystyle i=1 \\text{ } h_{0}=-0.500000 \\text{ } h_{1}=-1.023513 \\text{ } \\delta_{1}=47.694884 \\text{ }                      \\delta_{0}=69.750000 \\text{ } x_{0}=5.500000 \\text{ } x_{1}=5.000000 \\text{ }x_{2}=3.976487, e=0.257391$"
      ],
      "text/plain": [
       "<IPython.core.display.Math object>"
      ]
     },
     "metadata": {},
     "output_type": "display_data"
    },
    {
     "data": {
      "text/latex": [
       "$\\displaystyle i=2 \\text{ } h_{0}=-1.023513 \\text{ } h_{1}=0.024563 \\text{ } \\delta_{1}=34.730980 \\text{ }                      \\delta_{0}=47.694884 \\text{ } x_{0}=5.000000 \\text{ } x_{1}=3.976487 \\text{ }x_{2}=4.001050, e=0.006139$"
      ],
      "text/plain": [
       "<IPython.core.display.Math object>"
      ]
     },
     "metadata": {},
     "output_type": "display_data"
    },
    {
     "data": {
      "text/latex": [
       "$\\displaystyle i=3 \\text{ } h_{0}=0.024563 \\text{ } h_{1}=-0.001050 \\text{ } \\delta_{1}=35.012616 \\text{ }                      \\delta_{0}=34.730980 \\text{ } x_{0}=3.976487 \\text{ } x_{1}=4.001050 \\text{ }x_{2}=4.000001, e=0.000262$"
      ],
      "text/plain": [
       "<IPython.core.display.Math object>"
      ]
     },
     "metadata": {},
     "output_type": "display_data"
    },
    {
     "data": {
      "text/latex": [
       "$\\displaystyle i=4 \\text{ } h_{0}=-0.001050 \\text{ } h_{1}=-0.000001 \\text{ } \\delta_{1}=35.000008 \\text{ }                      \\delta_{0}=35.012616 \\text{ } x_{0}=4.001050 \\text{ } x_{1}=4.000001 \\text{ }x_{2}=4.000000, e=0.000000$"
      ],
      "text/plain": [
       "<IPython.core.display.Math object>"
      ]
     },
     "metadata": {},
     "output_type": "display_data"
    }
   ],
   "source": [
    "muller_s_m(4.5,5.5,5,1e-8)"
   ]
  },
  {
   "cell_type": "markdown",
   "id": "60f786ed",
   "metadata": {},
   "source": [
    "## Bairstow's Method"
   ]
  },
  {
   "cell_type": "code",
   "execution_count": 264,
   "id": "2af64516",
   "metadata": {},
   "outputs": [],
   "source": [
    "import cmath as cm\n",
    "import numpy as np\n",
    "import scipy as sc\n",
    "import sympy as sm\n",
    "import matplotlib.pyplot as plt\n",
    "from IPython.display import display,Math"
   ]
  },
  {
   "cell_type": "code",
   "execution_count": 265,
   "id": "f476c491",
   "metadata": {},
   "outputs": [],
   "source": [
    "def poly_div(a,r,s,l):\n",
    "    \n",
    "    b = np.zeros(shape=(l))\n",
    "    \n",
    "    b[l-1] = a[l-1]\n",
    "    b[l-2] = a[l-2] + r*b[l-1]\n",
    "    \n",
    "    for i in np.arange(l-3,-1,-1):\n",
    "        \n",
    "        b[i] = a[i] + r*b[i+1] + s*b[i+2]\n",
    "    \n",
    "    return b\n",
    "\n",
    "def delr_del_s(b,r,s,l):\n",
    "    \n",
    "    c = np.zeros(shape=(l))\n",
    "    \n",
    "    c[l-1] = b[l-1]\n",
    "    c[l-2] = b[l-2]+r*c[l-1]\n",
    "    \n",
    "    for i in np.arange(l-3,0,-1):\n",
    "        c[i] = b[i] + r*c[i+1] + s*c[i+2]\n",
    "    \n",
    "    c = np.delete(c,[0])\n",
    "\n",
    "    return c\n",
    "\n",
    "def rs(a,r,s,eps,l):\n",
    "    \n",
    "    ear = 1;\n",
    "    eas = 1;\n",
    "    ncount = 0;\n",
    "    while ear > eps or eas > eps:\n",
    "        \n",
    "        ncount = ncount + 1;\n",
    "        \n",
    "        b = poly_div(a,r,s,l)\n",
    "        c = delr_del_s(b,r,s,l)\n",
    "    \n",
    "        A = [[c[1], c[2]],\n",
    "            [c[0], c[1]]]\n",
    "        B = [-b[1], -b[0]]\n",
    "    \n",
    "        delta_r, delta_s = np.linalg.solve(A,B)\n",
    "        r,s = r + delta_r, s + delta_s\n",
    "        \n",
    "        ear,eas = abs(delta_r), abs(delta_s)\n",
    "   \n",
    "    return r,s\n",
    "\n",
    "def quadroot(a,r,s,eps,l):\n",
    "    \n",
    "    r,s = rs(a,r,s,eps,l)\n",
    "    x1,x2 = [(r+cm.sqrt(r**2+4*s))/2, (r-cm.sqrt(r**2+4*s))/2]\n",
    "\n",
    "    return x1,x2,r,s\n",
    "\n",
    "def main(coeff,r,s,eps):\n",
    "    \n",
    "    coeff = coeff[::-1]\n",
    "    l = np.size(coeff)\n",
    "    x = np.zeros(l-1)*(1+0*1j)\n",
    "    \n",
    "    while l > 1:\n",
    "        \n",
    "        # print(coeff)\n",
    "        if l == 2:\n",
    "            x[0] = -coeff[0]/coeff[1]\n",
    "            \n",
    "        elif l == 3:\n",
    "            x[0] = (-b[1]+np.sqrt((b[1])**2-4*b[1]*b[0]))/2*b[2]\n",
    "            x[1] = (-b[1]-np.sqrt((b[1])**2-4*b[1]*b[0]))/2*b[2]\n",
    "        elif l > 3:\n",
    "\n",
    "            x[l-2], x[l-3], r, s = quadroot(coeff.copy(),r,s,eps,l)\n",
    "            b = poly_div(coeff.copy(),r,s,l)\n",
    "            # display('r=%f s=%f l=%g'%(r,s,l))\n",
    "            \n",
    "            if l > 3:\n",
    "                coeff = np.delete(b,[0, 1])\n",
    "            else:\n",
    "                coeff = b\n",
    "        \n",
    "        l = l - 2\n",
    "        \n",
    "    return x"
   ]
  },
  {
   "cell_type": "code",
   "execution_count": 266,
   "id": "07c643d5",
   "metadata": {},
   "outputs": [
    {
     "data": {
      "image/png": "[encoded data removed]",
      "text/latex": [
       "$\\displaystyle 5$"
      ],
      "text/plain": [
       "5"
      ]
     },
     "execution_count": 266,
     "metadata": {},
     "output_type": "execute_result"
    }
   ],
   "source": [
    "roots = main([1, -3.5, 2.75, 2.125, -3.875, 1.25],-1,-1,.001)\n",
    "np.size(roots)"
   ]
  },
  {
   "cell_type": "code",
   "execution_count": 267,
   "id": "3c628acf",
   "metadata": {},
   "outputs": [
    {
     "data": {
      "text/plain": [
       "array([ 2. +0.j ,  1. -0.5j,  1. +0.5j, -1. +0.j ,  0.5+0.j ])"
      ]
     },
     "execution_count": 267,
     "metadata": {},
     "output_type": "execute_result"
    }
   ],
   "source": [
    "roots"
   ]
  },
  {
   "cell_type": "markdown",
   "id": "359ab923",
   "metadata": {},
   "source": [
    "# Numerical differentiation\n",
    "\n",
    "## Euler's Method : $y^{\\prime} = x^{2}+3$"
   ]
  },
  {
   "cell_type": "code",
   "execution_count": 268,
   "id": "470cb849",
   "metadata": {},
   "outputs": [],
   "source": [
    "import numpy as np\n",
    "import scipy as scp\n",
    "import sympy as smp\n",
    "import matplotlib.pyplot as plt\n",
    "from IPython.display import display,Math"
   ]
  },
  {
   "cell_type": "code",
   "execution_count": 269,
   "id": "79894d88",
   "metadata": {},
   "outputs": [],
   "source": [
    "def slope(x,y):\n",
    "    return -2*x**3 + 12*x**2 - 20*x + 8.5"
   ]
  },
  {
   "cell_type": "code",
   "execution_count": 270,
   "id": "f9cc70d6",
   "metadata": {},
   "outputs": [],
   "source": [
    "def euler(x,y,h):\n",
    "    \n",
    "    xi = x\n",
    "    yi = y\n",
    "    ynew = np.zeros(20)\n",
    "    for i in range(0,20):\n",
    "        ynew[i] = yi + h*slope(xi,yi)\n",
    "        print(\"xi=%f  slope=%f  yold=%lf  yi=%f  \"%(xi,slope(xi,yi),yi,ynew[i]))\n",
    "        \n",
    "        xi = xi + h\n",
    "        yi = ynew[i]"
   ]
  },
  {
   "cell_type": "code",
   "execution_count": 271,
   "id": "ea49d927",
   "metadata": {},
   "outputs": [
    {
     "name": "stdout",
     "output_type": "stream",
     "text": [
      "xi=0.000000  slope=8.500000  yold=1.000000  yi=5.250000  \n",
      "xi=0.500000  slope=1.250000  yold=5.250000  yi=5.875000  \n",
      "xi=1.000000  slope=-1.500000  yold=5.875000  yi=5.125000  \n",
      "xi=1.500000  slope=-1.250000  yold=5.125000  yi=4.500000  \n",
      "xi=2.000000  slope=0.500000  yold=4.500000  yi=4.750000  \n",
      "xi=2.500000  slope=2.250000  yold=4.750000  yi=5.875000  \n",
      "xi=3.000000  slope=2.500000  yold=5.875000  yi=7.125000  \n",
      "xi=3.500000  slope=-0.250000  yold=7.125000  yi=7.000000  \n",
      "xi=4.000000  slope=-7.500000  yold=7.000000  yi=3.250000  \n",
      "xi=4.500000  slope=-20.750000  yold=3.250000  yi=-7.125000  \n",
      "xi=5.000000  slope=-41.500000  yold=-7.125000  yi=-27.875000  \n",
      "xi=5.500000  slope=-71.250000  yold=-27.875000  yi=-63.500000  \n",
      "xi=6.000000  slope=-111.500000  yold=-63.500000  yi=-119.250000  \n",
      "xi=6.500000  slope=-163.750000  yold=-119.250000  yi=-201.125000  \n",
      "xi=7.000000  slope=-229.500000  yold=-201.125000  yi=-315.875000  \n",
      "xi=7.500000  slope=-310.250000  yold=-315.875000  yi=-471.000000  \n",
      "xi=8.000000  slope=-407.500000  yold=-471.000000  yi=-674.750000  \n",
      "xi=8.500000  slope=-522.750000  yold=-674.750000  yi=-936.125000  \n",
      "xi=9.000000  slope=-657.500000  yold=-936.125000  yi=-1264.875000  \n",
      "xi=9.500000  slope=-813.250000  yold=-1264.875000  yi=-1671.500000  \n"
     ]
    }
   ],
   "source": [
    "euler(0,1,.5)"
   ]
  },
  {
   "cell_type": "markdown",
   "id": "27faa008",
   "metadata": {},
   "source": [
    "## Error Analysis"
   ]
  },
  {
   "cell_type": "markdown",
   "id": "b36e66cb",
   "metadata": {},
   "source": [
    "#### $y_{i+1} = y_{i} + y^{\\prime}_{i}h + y^{\\prime\\prime}_{i}\\frac{h^{2}}{2!} + y^{\\prime\\prime\\prime}_{i}\\frac{h^{3}}{3!} + y^{\\prime\\prime\\prime\\prime}_{i}\\frac{h^{4}}{4!} + .... y|_{x = 0}= 1$\n",
    "\n",
    "$y_{i+1} = y_{i} + f(x_{i},y_{i})h + f^{\\prime}(x_{i},y_{i})\\frac{h^{2}}{2!} + f^{\\prime\\prime}(x_{i},y_{i})\\frac{h^{3}}{3!} + f^{\\prime\\prime\\prime}(x_{i},y_{i})\\frac{h^{4}}{4!} + .....$"
   ]
  },
  {
   "cell_type": "code",
   "execution_count": 272,
   "id": "16a9f4cd",
   "metadata": {},
   "outputs": [
    {
     "data": {
      "image/png": "[encoded data removed]",
      "text/latex": [
       "$\\displaystyle -2.03125$"
      ],
      "text/plain": [
       "-2.03125000000000"
      ]
     },
     "execution_count": 272,
     "metadata": {},
     "output_type": "execute_result"
    }
   ],
   "source": [
    "x = smp.symbols('x')\n",
    "\n",
    "h = 0.5\n",
    "f = -2*x**3 + 12*x**2 - 20*x + 8.5\n",
    "df = smp.diff(f,x)\n",
    "ddf = smp.diff(df,x)\n",
    "dddf = smp.diff(ddf,x)\n",
    "\n",
    "e = (df.subs(x,0)*h**2)/smp.factorial(2) + (ddf.subs(x,0)*h**3)/smp.factorial(3) + (dddf.subs(x,0)*h**4)/smp.factorial(4)\n",
    "e"
   ]
  },
  {
   "cell_type": "markdown",
   "id": "b996f8ee",
   "metadata": {},
   "source": [
    "## Heun's Method $y^{\\prime} = 4e^{0.8x} - 0.5y, x = 0, y = 2$"
   ]
  },
  {
   "cell_type": "code",
   "execution_count": 273,
   "id": "4f63b318",
   "metadata": {},
   "outputs": [],
   "source": [
    "# dy/dx = f(x,y) x = 0, y = 2\n",
    "# yp_(i+1) = y_(i) + h*f(x_i,y_i)\n",
    "#yc_{i+1} = f(xi, yp_(i+1))"
   ]
  },
  {
   "cell_type": "code",
   "execution_count": 274,
   "id": "2c356d07",
   "metadata": {},
   "outputs": [],
   "source": [
    "def slope(x,y):\n",
    "    return 4*np.exp(0.8*x) - 0.5*y"
   ]
  },
  {
   "cell_type": "code",
   "execution_count": 275,
   "id": "3b45404c",
   "metadata": {},
   "outputs": [
    {
     "name": "stdout",
     "output_type": "stream",
     "text": [
      "x = 0 y = 2\n",
      "x = 0.25 y = 2.81383\n",
      "x = 0.5 y = 3.76436\n",
      "x = 0.75 y = 4.88695\n",
      "x = 1 y = 6.22421\n",
      "x = 1.25 y = 7.82763\n",
      "x = 1.5 y = 9.75963\n",
      "x = 1.75 y = 12.0961\n",
      "x = 2 y = 14.9292\n",
      "x = 2.25 y = 18.3715\n",
      "x = 2.5 y = 22.5598\n",
      "x = 2.75 y = 27.6613\n",
      "x = 3 y = 33.8798\n",
      "x = 3.25 y = 41.464\n",
      "x = 3.5 y = 50.7177\n",
      "x = 3.75 y = 62.0115\n",
      "x = 4 y = 75.7982\n"
     ]
    }
   ],
   "source": [
    "def heuns_m(xi,yi,step,xlim):\n",
    "    \n",
    "    noiteration = int(xlim/step)\n",
    "    x = np.zeros(noiteration+2)\n",
    "    y = np.zeros(noiteration+2)\n",
    "    x[0] = xi\n",
    "    y[0] = yi\n",
    "    h = step\n",
    "    \n",
    "    \n",
    "    for i in range(0,noiteration+1):\n",
    "        \n",
    "        yp = y[i] + h*slope(x[i],y[i]) # predictor\n",
    "        x[i+1] = x[i] + h \n",
    "        yc = (slope(x[i],y[i])+slope(x[i+1],yp))/2 # corrector\n",
    "        y[i+1] = y[i] + h*yc\n",
    "        print(\"x = %g y = %g\"%(x[i],y[i]))\n",
    "    \n",
    "    return x,y\n",
    "\n",
    "xh,yh = heuns_m(0,2,.25,4)"
   ]
  },
  {
   "cell_type": "code",
   "execution_count": 276,
   "id": "74971ed3",
   "metadata": {},
   "outputs": [
    {
     "data": {
      "image/png": "[encoded data removed]",
      "text/latex": [
       "$\\displaystyle \\left( 19.7, \\  20.1\\right)$"
      ],
      "text/plain": [
       "(19.7, 20.1)"
      ]
     },
     "execution_count": 276,
     "metadata": {},
     "output_type": "execute_result"
    },
    {
     "data": {
      "image/png": "[encoded data removed]",
      "text/plain": [
       "<Figure size 432x288 with 1 Axes>"
      ]
     },
     "metadata": {
      "needs_background": "light"
     },
     "output_type": "display_data"
    }
   ],
   "source": [
    "x = smp.symbols('x')\n",
    "y = 4*(smp.exp(0.8*x) - smp.exp(-0.5*x))/1.3 + 2*smp.exp(-0.5*x)\n",
    "\n",
    "xt = np.linspace(0,4, num = 100, endpoint=True)\n",
    "yt = np.zeros(100)\n",
    "\n",
    "for i in range(0,100):\n",
    "    yt[i] = y.subs(x,xt[i])\n",
    "    \n",
    "\n",
    "plt.plot(xt,yt,'c')\n",
    "plt.plot(xh,yh, 'b')\n",
    "plt.xlim(2,3)\n",
    "plt.ylim(19.7,20.1)"
   ]
  },
  {
   "cell_type": "markdown",
   "id": "cbe2fdef",
   "metadata": {},
   "source": [
    "## Modified Euler's Method"
   ]
  },
  {
   "cell_type": "code",
   "execution_count": 277,
   "id": "a2182c7d",
   "metadata": {},
   "outputs": [],
   "source": [
    "# y_(i+1/2) = y_(i) + f(x_(i),y_(i))*h/2 euler estimate at x_i\n",
    "# y(i+1/2) = f(x_(i+1/2),y_(i+1/2)) slope at midpoint between x_i and x_(i+1)\n",
    "# y_(i+1) = y_(i) + f(x_(i+1/2),y_(i+1/2))*h guessing next estimate using that slope"
   ]
  },
  {
   "cell_type": "markdown",
   "id": "e29ee5ec",
   "metadata": {},
   "source": [
    "## Find   $y(1.0)$   accurate  upto  four decimal places using Modified Euler's method by solving the IVP  $y' = -2xy^2,  y(0) = 1$ with step lengh 0.2. "
   ]
  },
  {
   "cell_type": "code",
   "execution_count": 278,
   "id": "39208715",
   "metadata": {},
   "outputs": [],
   "source": [
    "def slope(x,y):\n",
    "    return 2*x-y"
   ]
  },
  {
   "cell_type": "code",
   "execution_count": 279,
   "id": "f27d99ec",
   "metadata": {},
   "outputs": [],
   "source": [
    "def mod_euler(xi,yi,h,xlim):\n",
    "    \n",
    "    noiteration = int((xlim-xi)/h)\n",
    "    x = np.zeros(noiteration+1)\n",
    "    y = np.zeros(noiteration+1)\n",
    "    x[0] = 0\n",
    "    y[0] = 1\n",
    "    \n",
    "    for i in range(0,noiteration):\n",
    "        \n",
    "        y_1_2 = y[i] + slope(x[i],y[i])*h/2\n",
    "        print(y_1_2)\n",
    "        m = slope(x[i]+h/2,y_1_2)\n",
    "        print(m)\n",
    "        y[i+1] = y[i] + h*slope(x[i]+h/2,y_1_2)\n",
    "        display(Math('i=%g \\\\text{ } x=%f \\\\text{ } y=%f'%(i,x[i+1],y[i+1])))\n",
    "        x[i+1] = x[i] + h"
   ]
  },
  {
   "cell_type": "code",
   "execution_count": 280,
   "id": "465c89dc",
   "metadata": {},
   "outputs": [
    {
     "name": "stdout",
     "output_type": "stream",
     "text": [
      "0.95\n",
      "-0.85\n"
     ]
    },
    {
     "data": {
      "text/latex": [
       "$\\displaystyle i=0 \\text{ } x=0.000000 \\text{ } y=0.915000$"
      ],
      "text/plain": [
       "<IPython.core.display.Math object>"
      ]
     },
     "metadata": {},
     "output_type": "display_data"
    },
    {
     "name": "stdout",
     "output_type": "stream",
     "text": [
      "0.8792500000000001\n",
      "-0.57925\n"
     ]
    },
    {
     "data": {
      "text/latex": [
       "$\\displaystyle i=1 \\text{ } x=0.000000 \\text{ } y=0.857075$"
      ],
      "text/plain": [
       "<IPython.core.display.Math object>"
      ]
     },
     "metadata": {},
     "output_type": "display_data"
    },
    {
     "name": "stdout",
     "output_type": "stream",
     "text": [
      "0.83422125\n",
      "-0.33422125\n"
     ]
    },
    {
     "data": {
      "text/latex": [
       "$\\displaystyle i=2 \\text{ } x=0.000000 \\text{ } y=0.823653$"
      ],
      "text/plain": [
       "<IPython.core.display.Math object>"
      ]
     },
     "metadata": {},
     "output_type": "display_data"
    },
    {
     "name": "stdout",
     "output_type": "stream",
     "text": [
      "0.8124702312500001\n",
      "-0.11247023125\n"
     ]
    },
    {
     "data": {
      "text/latex": [
       "$\\displaystyle i=3 \\text{ } x=0.000000 \\text{ } y=0.812406$"
      ],
      "text/plain": [
       "<IPython.core.display.Math object>"
      ]
     },
     "metadata": {},
     "output_type": "display_data"
    },
    {
     "name": "stdout",
     "output_type": "stream",
     "text": [
      "0.8117855592812501\n",
      "0.08821444071874995\n"
     ]
    },
    {
     "data": {
      "text/latex": [
       "$\\displaystyle i=4 \\text{ } x=0.000000 \\text{ } y=0.821227$"
      ],
      "text/plain": [
       "<IPython.core.display.Math object>"
      ]
     },
     "metadata": {},
     "output_type": "display_data"
    },
    {
     "name": "stdout",
     "output_type": "stream",
     "text": [
      "0.8301659311495313\n",
      "0.2698340688504688\n"
     ]
    },
    {
     "data": {
      "text/latex": [
       "$\\displaystyle i=5 \\text{ } x=0.000000 \\text{ } y=0.848211$"
      ],
      "text/plain": [
       "<IPython.core.display.Math object>"
      ]
     },
     "metadata": {},
     "output_type": "display_data"
    },
    {
     "name": "stdout",
     "output_type": "stream",
     "text": [
      "0.8658001676903258\n",
      "0.4341998323096743\n"
     ]
    },
    {
     "data": {
      "text/latex": [
       "$\\displaystyle i=6 \\text{ } x=0.000000 \\text{ } y=0.891631$"
      ],
      "text/plain": [
       "<IPython.core.display.Math object>"
      ]
     },
     "metadata": {},
     "output_type": "display_data"
    },
    {
     "name": "stdout",
     "output_type": "stream",
     "text": [
      "0.9170491517597449\n",
      "0.5829508482402551\n"
     ]
    },
    {
     "data": {
      "text/latex": [
       "$\\displaystyle i=7 \\text{ } x=0.000000 \\text{ } y=0.949926$"
      ],
      "text/plain": [
       "<IPython.core.display.Math object>"
      ]
     },
     "metadata": {},
     "output_type": "display_data"
    },
    {
     "name": "stdout",
     "output_type": "stream",
     "text": [
      "0.9824294823425691\n",
      "0.7175705176574309\n"
     ]
    },
    {
     "data": {
      "text/latex": [
       "$\\displaystyle i=8 \\text{ } x=0.000000 \\text{ } y=1.021683$"
      ],
      "text/plain": [
       "<IPython.core.display.Math object>"
      ]
     },
     "metadata": {},
     "output_type": "display_data"
    },
    {
     "name": "stdout",
     "output_type": "stream",
     "text": [
      "1.060598681520025\n",
      "0.8394013184799749\n"
     ]
    },
    {
     "data": {
      "text/latex": [
       "$\\displaystyle i=9 \\text{ } x=0.000000 \\text{ } y=1.105623$"
      ],
      "text/plain": [
       "<IPython.core.display.Math object>"
      ]
     },
     "metadata": {},
     "output_type": "display_data"
    }
   ],
   "source": [
    "mod_euler(0,1,0.1,1)"
   ]
  },
  {
   "cell_type": "markdown",
   "id": "b36a39c7",
   "metadata": {},
   "source": [
    "## Runge-Kutta 2 Method"
   ]
  },
  {
   "cell_type": "code",
   "execution_count": 281,
   "id": "5159c92e",
   "metadata": {},
   "outputs": [],
   "source": [
    "def slope(x,y):\n",
    "    return -2*x**3 + 12*x**2 -20*x + 8.5"
   ]
  },
  {
   "cell_type": "code",
   "execution_count": 282,
   "id": "91453ad6",
   "metadata": {},
   "outputs": [],
   "source": [
    "def rk2method(xi,yi,h,xlim):\n",
    "    \n",
    "    noiteration = int((xlim-xi)/h)\n",
    "    x = np.zeros(noiteration+2)\n",
    "    y = np.zeros(noiteration+2)\n",
    "    \n",
    "    x[0] = xi\n",
    "    y[0] = yi\n",
    "    \n",
    "    for i in range(0,noiteration+1):\n",
    "        \n",
    "        k1 = slope(x[i],y[i])\n",
    "        k2 = slope(x[i]+3*h/4, y[i]+3*k1*h/4)\n",
    "        \n",
    "        y[i+1] = y[i] + (k1/3+2*k2/3)*h\n",
    "        display(Math('x = %f  y = %f'%(x[i], y[i])))\n",
    "        x[i+1] = x[i] + h"
   ]
  },
  {
   "cell_type": "code",
   "execution_count": 283,
   "id": "d7e04533",
   "metadata": {},
   "outputs": [
    {
     "data": {
      "text/latex": [
       "$\\displaystyle x = 0.000000  y = 1.000000$"
      ],
      "text/plain": [
       "<IPython.core.display.Math object>"
      ]
     },
     "metadata": {},
     "output_type": "display_data"
    },
    {
     "data": {
      "text/latex": [
       "$\\displaystyle x = 0.500000  y = 3.277344$"
      ],
      "text/plain": [
       "<IPython.core.display.Math object>"
      ]
     },
     "metadata": {},
     "output_type": "display_data"
    },
    {
     "data": {
      "text/latex": [
       "$\\displaystyle x = 1.000000  y = 3.101562$"
      ],
      "text/plain": [
       "<IPython.core.display.Math object>"
      ]
     },
     "metadata": {},
     "output_type": "display_data"
    },
    {
     "data": {
      "text/latex": [
       "$\\displaystyle x = 1.500000  y = 2.347656$"
      ],
      "text/plain": [
       "<IPython.core.display.Math object>"
      ]
     },
     "metadata": {},
     "output_type": "display_data"
    },
    {
     "data": {
      "text/latex": [
       "$\\displaystyle x = 2.000000  y = 2.140625$"
      ],
      "text/plain": [
       "<IPython.core.display.Math object>"
      ]
     },
     "metadata": {},
     "output_type": "display_data"
    },
    {
     "data": {
      "text/latex": [
       "$\\displaystyle x = 2.500000  y = 2.855469$"
      ],
      "text/plain": [
       "<IPython.core.display.Math object>"
      ]
     },
     "metadata": {},
     "output_type": "display_data"
    },
    {
     "data": {
      "text/latex": [
       "$\\displaystyle x = 3.000000  y = 4.117188$"
      ],
      "text/plain": [
       "<IPython.core.display.Math object>"
      ]
     },
     "metadata": {},
     "output_type": "display_data"
    },
    {
     "data": {
      "text/latex": [
       "$\\displaystyle x = 3.500000  y = 4.800781$"
      ],
      "text/plain": [
       "<IPython.core.display.Math object>"
      ]
     },
     "metadata": {},
     "output_type": "display_data"
    },
    {
     "data": {
      "text/latex": [
       "$\\displaystyle x = 4.000000  y = 3.031250$"
      ],
      "text/plain": [
       "<IPython.core.display.Math object>"
      ]
     },
     "metadata": {},
     "output_type": "display_data"
    }
   ],
   "source": [
    "rk2method(0,1,.5,4)"
   ]
  },
  {
   "cell_type": "markdown",
   "id": "375814e9",
   "metadata": {},
   "source": [
    "## Runge-Kutta 4th Order"
   ]
  },
  {
   "cell_type": "code",
   "execution_count": 284,
   "id": "06d14d65",
   "metadata": {},
   "outputs": [],
   "source": [
    "def slope(x,y):\n",
    "    return -2*x**3 + 12*x**2 -20*x + 8.5"
   ]
  },
  {
   "cell_type": "code",
   "execution_count": 285,
   "id": "117b2e71",
   "metadata": {},
   "outputs": [],
   "source": [
    "def rk4_method(xi,yi,h,xlim):\n",
    "    noiteration = int((xlim-xi)/h)\n",
    "    \n",
    "    x = np.zeros(noiteration+1)\n",
    "    y = np.zeros(noiteration+1)\n",
    "    \n",
    "    x[0] = xi\n",
    "    y[0] = yi\n",
    "    \n",
    "    for i in range(0,noiteration):\n",
    "        \n",
    "        k1 = slope(x[i], y[i])\n",
    "        k2 = slope(x[i]+h/2, y[i]+k1*h/2)\n",
    "        k3 = slope(x[i]+h/2, y[i]+k2*h/2)\n",
    "        k4 = slope(x[i]+h, y[i]+k3*h)\n",
    "        \n",
    "        y[i+1] = y[i] + (1/6)*(k1+2*k2+2*k3+k4)*h\n",
    "        print(y[i])\n",
    "        x[i+1] = x[i] + h"
   ]
  },
  {
   "cell_type": "code",
   "execution_count": 286,
   "id": "39cedfa2",
   "metadata": {
    "scrolled": true
   },
   "outputs": [
    {
     "name": "stdout",
     "output_type": "stream",
     "text": [
      "1.0\n",
      "2.3312\n",
      "3.0431999999999997\n",
      "3.2991999999999995\n",
      "3.2431999999999994\n",
      "2.9999999999999996\n",
      "2.6752\n",
      "2.3552\n",
      "2.1071999999999997\n",
      "1.9791999999999987\n",
      "1.9999999999999993\n",
      "2.179199999999999\n",
      "2.5071999999999983\n",
      "2.9551999999999987\n",
      "3.4752\n",
      "3.999999999999999\n",
      "4.443199999999998\n",
      "4.699199999999998\n",
      "4.643199999999997\n",
      "4.131199999999991\n"
     ]
    }
   ],
   "source": [
    "rk4_method(0,1,.2,4)"
   ]
  },
  {
   "cell_type": "markdown",
   "id": "475338cc",
   "metadata": {},
   "source": [
    "# Systems of Equation"
   ]
  },
  {
   "cell_type": "markdown",
   "id": "bec1a244",
   "metadata": {},
   "source": [
    "### Euler's Method"
   ]
  },
  {
   "cell_type": "code",
   "execution_count": 287,
   "id": "aaa6c694",
   "metadata": {},
   "outputs": [],
   "source": [
    "def eq1(x,y1):\n",
    "    return -0.5*y1"
   ]
  },
  {
   "cell_type": "code",
   "execution_count": 288,
   "id": "7ba93705",
   "metadata": {},
   "outputs": [],
   "source": [
    "def eq2(x,y1,y2):\n",
    "    return 4 - 0.3*y2 - 0.1*y1"
   ]
  },
  {
   "cell_type": "code",
   "execution_count": 289,
   "id": "cb4ca283",
   "metadata": {},
   "outputs": [],
   "source": [
    "def euler_method(xi, yi1, yi2, h, xlim):\n",
    "    \n",
    "    noiteration = int((xlim-xi)/h)+1\n",
    "    \n",
    "    x = np.zeros(noiteration+1)\n",
    "    y1 = np.zeros(noiteration+1)\n",
    "    y2 = np.zeros(noiteration+1)\n",
    "    \n",
    "    x[0] = xi\n",
    "    y1[0] = yi1\n",
    "    y2[0] = yi2\n",
    "    \n",
    "    for i in range(0,noiteration):\n",
    "        \n",
    "        y1[i+1] = y1[i] + eq1(x[i],y1[i])*h\n",
    "        y2[i+1] = y2[i] + eq2(x[i],y1[i],y2[i])*h\n",
    "        display(Math('x=%f\\\\text{ }y1=%f\\\\text{ }y2=%f'%(x[i],y1[i],y2[i])))\n",
    "        x[i+1] = x[i] + h"
   ]
  },
  {
   "cell_type": "code",
   "execution_count": 290,
   "id": "3f6a0c43",
   "metadata": {},
   "outputs": [
    {
     "data": {
      "text/latex": [
       "$\\displaystyle x=0.000000\\text{ }y1=4.000000\\text{ }y2=6.000000$"
      ],
      "text/plain": [
       "<IPython.core.display.Math object>"
      ]
     },
     "metadata": {},
     "output_type": "display_data"
    },
    {
     "data": {
      "text/latex": [
       "$\\displaystyle x=0.500000\\text{ }y1=3.000000\\text{ }y2=6.900000$"
      ],
      "text/plain": [
       "<IPython.core.display.Math object>"
      ]
     },
     "metadata": {},
     "output_type": "display_data"
    },
    {
     "data": {
      "text/latex": [
       "$\\displaystyle x=1.000000\\text{ }y1=2.250000\\text{ }y2=7.715000$"
      ],
      "text/plain": [
       "<IPython.core.display.Math object>"
      ]
     },
     "metadata": {},
     "output_type": "display_data"
    },
    {
     "data": {
      "text/latex": [
       "$\\displaystyle x=1.500000\\text{ }y1=1.687500\\text{ }y2=8.445250$"
      ],
      "text/plain": [
       "<IPython.core.display.Math object>"
      ]
     },
     "metadata": {},
     "output_type": "display_data"
    },
    {
     "data": {
      "text/latex": [
       "$\\displaystyle x=2.000000\\text{ }y1=1.265625\\text{ }y2=9.094088$"
      ],
      "text/plain": [
       "<IPython.core.display.Math object>"
      ]
     },
     "metadata": {},
     "output_type": "display_data"
    }
   ],
   "source": [
    "euler_method(0,4,6,.5,2)"
   ]
  },
  {
   "cell_type": "markdown",
   "id": "583f67cf",
   "metadata": {},
   "source": [
    "### Runge-Kutta Method"
   ]
  },
  {
   "cell_type": "markdown",
   "id": "181616ab",
   "metadata": {},
   "source": [
    "### Example 25.10\n",
    "$$\\frac{dy_{1}}{dx} = -0.5y_{1}, \\frac{dy_{2}}{dx} = 4-0.3y_{2}-0.1y_{1}$$"
   ]
  },
  {
   "cell_type": "code",
   "execution_count": 291,
   "id": "ef91cceb",
   "metadata": {},
   "outputs": [],
   "source": [
    "def slopes(x,y1,y2,n):\n",
    "    if n==0:\n",
    "        return -.5*y1\n",
    "    elif n==1:\n",
    "        return 4-.3*y2-.1*y1"
   ]
  },
  {
   "cell_type": "code",
   "execution_count": 292,
   "id": "0162f5fd",
   "metadata": {},
   "outputs": [],
   "source": [
    "def rk4_method(xi,yi1,yi2,h,xlim):\n",
    "    \n",
    "    noiteration = int((xlim-xi)/h)+1\n",
    "    \n",
    "    x = np.zeros(noiteration+1)\n",
    "    y = np.zeros(shape=(noiteration+1,2))\n",
    "    \n",
    "    k1 = np.zeros(shape=(noiteration+1,2))\n",
    "    k2 = np.zeros(shape=(noiteration+1,2))\n",
    "    k3 = np.zeros(shape=(noiteration+1,2))\n",
    "    k4 = np.zeros(shape=(noiteration+1,2))\n",
    "    \n",
    "    x[0] = xi\n",
    "    y[0][0] = yi1\n",
    "    y[0][1] = yi2\n",
    "    \n",
    "    for i in range(0,noiteration):\n",
    "        \n",
    "        for j in range(0,2):\n",
    "            k1[i][j] = slopes(x[i], y[i][0], y[i][1], j)\n",
    "            k2[i][j] = slopes(x[i]+h/2, y[i][0]+k1[i][0]*h/2, y[i][1]+k1[i][1]*h/2, j)\n",
    "            k3[i][j] = slopes(x[i]+h/2, y[i][0]+k2[i][0]*h/2, y[i][1]+k2[i][1]*h/2, j)\n",
    "            k4[i][j] = slopes(x[i]+h, y[i][0]+k3[i][0]*h, y[i][1]+k3[i][1]*h, j)\n",
    "            \n",
    "#             display(Math('i = %g \\\\text{ }k1[%g] = %f \\\\text{ } k2[%g] = %f \\\\text{ } k3[%g] = %f \\\\text{ } k4[%g] = %f'%(i,j,k1[i][j],j,k2[i][j],j,k3[i][j],j,k4[i][j])))\n",
    "        \n",
    "            y[i+1][j] = y[i][j] + (1/6)*(k1[i][j]+2*k2[i][j]+2*k3[i][j]+k4[i][j])*h\n",
    "        \n",
    "#         display(Math('x=%f\\\\text{ }y1=%f\\\\text{ }y2=%f'%(x[i],y[i][0])))\n",
    "        display(Math('x = %f \\\\text{ }y[%g][0]=%f \\\\text{ } y[%g][1]=%f'%(x[i], i, y[i][0], i, y[i][1])))\n",
    "        x[i+1] = x[i] + h"
   ]
  },
  {
   "cell_type": "code",
   "execution_count": 293,
   "id": "bf32c873",
   "metadata": {},
   "outputs": [
    {
     "data": {
      "text/latex": [
       "$\\displaystyle x = 0.000000 \\text{ }y[0][0]=4.000000 \\text{ } y[0][1]=6.000000$"
      ],
      "text/plain": [
       "<IPython.core.display.Math object>"
      ]
     },
     "metadata": {},
     "output_type": "display_data"
    },
    {
     "data": {
      "text/latex": [
       "$\\displaystyle x = 0.500000 \\text{ }y[1][0]=3.115234 \\text{ } y[1][1]=6.857670$"
      ],
      "text/plain": [
       "<IPython.core.display.Math object>"
      ]
     },
     "metadata": {},
     "output_type": "display_data"
    },
    {
     "data": {
      "text/latex": [
       "$\\displaystyle x = 1.000000 \\text{ }y[2][0]=2.426171 \\text{ } y[2][1]=7.632106$"
      ],
      "text/plain": [
       "<IPython.core.display.Math object>"
      ]
     },
     "metadata": {},
     "output_type": "display_data"
    },
    {
     "data": {
      "text/latex": [
       "$\\displaystyle x = 1.500000 \\text{ }y[3][0]=1.889523 \\text{ } y[3][1]=8.326886$"
      ],
      "text/plain": [
       "<IPython.core.display.Math object>"
      ]
     },
     "metadata": {},
     "output_type": "display_data"
    },
    {
     "data": {
      "text/latex": [
       "$\\displaystyle x = 2.000000 \\text{ }y[4][0]=1.471577 \\text{ } y[4][1]=8.946865$"
      ],
      "text/plain": [
       "<IPython.core.display.Math object>"
      ]
     },
     "metadata": {},
     "output_type": "display_data"
    }
   ],
   "source": [
    "rk4_method(0,4,6,.5,2)"
   ]
  },
  {
   "cell_type": "markdown",
   "id": "31ecfaaa",
   "metadata": {},
   "source": [
    "### $\\frac{dy}{dx}+0.6y=10e^{-\\frac{(x-2)^2}{2(0.075)^{2}}}, y(0) = 0.5, x = 0 \\text{ to }4$"
   ]
  },
  {
   "cell_type": "code",
   "execution_count": 294,
   "id": "df55525d",
   "metadata": {},
   "outputs": [],
   "source": [
    "def slope(x,y1,y2,n):\n",
    "    \n",
    "    if n==0:\n",
    "        return 10*np.exp(-(x-2)**2/.01125) - 0.6*y1\n",
    "    elif n==1:\n",
    "        return 10*np.exp(-(x-2)**2/.01125) - 0.6*y2"
   ]
  },
  {
   "cell_type": "code",
   "execution_count": 295,
   "id": "e0571af4",
   "metadata": {},
   "outputs": [],
   "source": [
    "def adaptive_rk(xi, yi, xlim):\n",
    "    \n",
    "    x = np.zeros(10)\n",
    "    y = np.zeros(shape=(10,2))\n",
    "    \n",
    "    x[0] = xi\n",
    "    y[0][0] = yi\n",
    "    y[0][1] = yi\n",
    "    \n",
    "    i = 0\n",
    "    \n",
    "    h = .25\n",
    "    for j in range(0,2):\n",
    "        k1 = slope(x[i],y[i][0], y[i][1],j)\n",
    "        k2 = slope(x[i]+h/5,y[i][0]+k1*h/5, y[i][1]+k1*h/5,j)\n",
    "        k3 = slope(x[i]+(3/10)*h, y[i][0]+(3/40)*k1*h+(9/40)*k2*h, y[i][1]+(3/40)*k1*h+(9/40)*k2*h,j)\n",
    "        k4 = slope(x[i]+(3/5)*h, y[i][0]+(3/10)*k1*h-(9/10)*k2*h+(6/5)*k3*h, y[i][1]+(3/10)*k1*h-(9/10)*k2*h+(6/5)*k3*h,j)\n",
    "        k5 = slopes(x[i]+h,y[i][0]-(11/54)*k1*h+(5/2)*k2*h-(70/27)*k3*h+(35/27)*k4*h, y[i][1]-(11/54)*k1*h+(5/2)*k2*h-(70/27)*k3*h+(35/27)*k4*h,j)\n",
    "        k6 = slopes(x[i]+(7/8)*h, y[i][0]+(1631/55296)*k1*h+(175/512)*k2*h+(575/13824)*k3*h+(44275/110592)*k4*h+(253/4096)*k5*h, y[i][1]+(1631/55296)*k1*h+(175/512)*k2*h+(575/13824)*k3*h+(44275/110592)*k4*h+(253/4096)*k5*h, j)\n",
    "        \n",
    "        if j == 0:\n",
    "            y[i+1][0] = y[i][0] + ((37/378)*k1+(250/621)*k3+(125/594)*k4+(512/1771)*k6)*h\n",
    "        elif j == 1:\n",
    "            y[i+1][1] = y[i][1] + ((2825/27648)*k1+(18575/48384)*k3+(13525/55296)*k4+(277/14336)*k5+(1/4)*k6)*h\n",
    "            \n",
    "    print(y)"
   ]
  },
  {
   "cell_type": "code",
   "execution_count": 296,
   "id": "12543dbf",
   "metadata": {},
   "outputs": [
    {
     "name": "stdout",
     "output_type": "stream",
     "text": [
      "[[0.5  0.5 ]\n",
      " [0.43 0.7 ]\n",
      " [0.   0.  ]\n",
      " [0.   0.  ]\n",
      " [0.   0.  ]\n",
      " [0.   0.  ]\n",
      " [0.   0.  ]\n",
      " [0.   0.  ]\n",
      " [0.   0.  ]\n",
      " [0.   0.  ]]\n"
     ]
    }
   ],
   "source": [
    "adaptive_rk(0, .5, 4)"
   ]
  },
  {
   "cell_type": "markdown",
   "id": "e3a25fcf",
   "metadata": {},
   "source": [
    "# Exercise 25.1"
   ]
  },
  {
   "cell_type": "markdown",
   "id": "f27be991",
   "metadata": {},
   "source": [
    "### \n",
    "\n",
    "$$\\frac{dy}{dt} = yt^{3} - 1.5y, t = 0 \\text{ to } 2, y(t=0)=1$$"
   ]
  },
  {
   "cell_type": "code",
   "execution_count": 3,
   "id": "a05d9b7d",
   "metadata": {},
   "outputs": [],
   "source": [
    "from sympy.interactive import printing\n",
    "printing.init_printing(use_latex=True)\n",
    "import sympy as sp\n",
    "import numpy as np\n",
    "import matplotlib.pyplot as plt"
   ]
  },
  {
   "cell_type": "markdown",
   "id": "abf9fc8a",
   "metadata": {},
   "source": [
    "## Function definition"
   ]
  },
  {
   "cell_type": "code",
   "execution_count": 7,
   "id": "4d24d229",
   "metadata": {},
   "outputs": [],
   "source": [
    "def dydt(t,y):\n",
    "    return y*t**3 - 1.5*y"
   ]
  },
  {
   "cell_type": "markdown",
   "id": "35135e52",
   "metadata": {},
   "source": [
    "## Analytical Solution"
   ]
  },
  {
   "cell_type": "code",
   "execution_count": 8,
   "id": "ed58b6fd",
   "metadata": {},
   "outputs": [
    {
     "data": {
      "image/png": "[encoded data removed]",
      "text/latex": [
       "$\\displaystyle y{\\left(t \\right)} = e^{t \\left(0.25 t^{3} - 1.5\\right)}$"
      ],
      "text/plain": [
       "          ⎛      3      ⎞\n",
       "        t⋅⎝0.25⋅t  - 1.5⎠\n",
       "y(t) = ℯ                 "
      ]
     },
     "execution_count": 8,
     "metadata": {},
     "output_type": "execute_result"
    }
   ],
   "source": [
    "# 25.1 (a)\n",
    "\n",
    "t = sp.symbols('t')\n",
    "y = sp.Function('y')\n",
    "\n",
    "deq = sp.Eq(y(t).diff(t)-y(t)*t**3+1.5*y(t),0)\n",
    "\n",
    "sp.dsolve(deq,ics = {y(0):1})"
   ]
  },
  {
   "cell_type": "markdown",
   "id": "b9ddca36",
   "metadata": {},
   "source": [
    "## Eulers Method"
   ]
  },
  {
   "cell_type": "code",
   "execution_count": 9,
   "id": "9631542c",
   "metadata": {},
   "outputs": [],
   "source": [
    "# 25.1(b)\n",
    "\n",
    "def euler(ti,yi,h,tlim):\n",
    "    \n",
    "    nval = int((tlim-ti)/h)+1  # the no of x & y values be generated\n",
    "    t = np.zeros(nval+1)\n",
    "    y = np.zeros(nval+1)\n",
    "    \n",
    "    t[0] = 0 # initializing t\n",
    "    y[0] = 1 # initializing y\n",
    "    \n",
    "    for i in range(0,nval):\n",
    "            \n",
    "            y[i+1] = y[i] + dydt(t[i],y[i])\n",
    "            t[i+1] = t[i] + h  # incrementing t value for next iteration\n",
    "            \n",
    "    return t,y"
   ]
  },
  {
   "cell_type": "code",
   "execution_count": 10,
   "id": "f9f87628",
   "metadata": {},
   "outputs": [],
   "source": [
    "tve1,yve1 = euler(0,1,.25,2)\n",
    "tve2,yve2 = euler(0,1,.5,2)"
   ]
  },
  {
   "cell_type": "markdown",
   "id": "db640cc0",
   "metadata": {},
   "source": [
    "## Midpoint method"
   ]
  },
  {
   "cell_type": "code",
   "execution_count": 11,
   "id": "4027e20c",
   "metadata": {},
   "outputs": [],
   "source": [
    "# 25.1(c)\n",
    "\n",
    "def midpoint_method(ti,yi,h,tlim):\n",
    "    \n",
    "    nval = int((tlim-ti)/h)+1\n",
    "    t = np.zeros(nval+1)\n",
    "    y = np.zeros(nval+1)\n",
    "    \n",
    "    t[0] = ti\n",
    "    y[0] = yi\n",
    "    \n",
    "    for i in range(0,nval):\n",
    "        \n",
    "        y_mid = y[i] + dydt(t[i], y[i])*h/2     # value of y at x_(i+1/2)\n",
    "        slope = dydt(t[i]+h/2, y_mid)           # slope at x_(i+1/2)\n",
    "        y[i+1] = y[i] + slope*h                 # use that slope to get y_(i)\n",
    "        t[i+1] = t[i] + h\n",
    "        \n",
    "    return t,y"
   ]
  },
  {
   "cell_type": "code",
   "execution_count": 12,
   "id": "d60b02c4",
   "metadata": {},
   "outputs": [],
   "source": [
    "tvm, yvm = midpoint_method(0,1,.5,2)"
   ]
  },
  {
   "cell_type": "markdown",
   "id": "fe9df72e",
   "metadata": {},
   "source": [
    "## RK4 Method "
   ]
  },
  {
   "cell_type": "code",
   "execution_count": 13,
   "id": "95f65132",
   "metadata": {},
   "outputs": [],
   "source": [
    "def rk4_method(ti,yi,h,tlim):\n",
    "    noiteration = int((tlim-ti)/h)+1\n",
    "    \n",
    "    t = np.zeros(noiteration+1)\n",
    "    y = np.zeros(noiteration+1)\n",
    "    \n",
    "    t[0] = ti\n",
    "    y[0] = yi\n",
    "    \n",
    "    for i in range(0,noiteration):\n",
    "        \n",
    "        k1 = dydt(t[i], y[i])\n",
    "        k2 = dydt(t[i]+h/2, y[i]+k1*h/2)\n",
    "        k3 = dydt(t[i]+h/2, y[i]+k2*h/2)\n",
    "        k4 = dydt(t[i]+h, y[i]+k3*h)\n",
    "        \n",
    "        y[i+1] = y[i] + (1/6)*(k1+2*k2+2*k3+k4)*h\n",
    "        t[i+1] = t[i] + h\n",
    "        \n",
    "    return t,y"
   ]
  },
  {
   "cell_type": "code",
   "execution_count": 14,
   "id": "0d71fc7d",
   "metadata": {},
   "outputs": [],
   "source": [
    "tvrk4,yvrk4=rk4_method(0,1,.5,2)"
   ]
  },
  {
   "cell_type": "code",
   "execution_count": 17,
   "id": "54033d91",
   "metadata": {},
   "outputs": [
    {
     "data": {
      "image/png": "[encoded data removed]",
      "text/plain": [
       "<Figure size 720x360 with 1 Axes>"
      ]
     },
     "metadata": {
      "needs_background": "light"
     },
     "output_type": "display_data"
    }
   ],
   "source": [
    "tva = np.linspace(0,2,100)\n",
    "yva = np.exp(tva*(0.25*tva**3-1.5))\n",
    "\n",
    "fig,ax = plt.subplots(figsize=(10,5))\n",
    "ax.spines['right'].set_color('none')\n",
    "ax.spines['top'].set_color('none')\n",
    "\n",
    "ax.plot(tva,yva,'--r',label='Analytical Solution')\n",
    "ax.plot(tve1,yve1,'-g',label='Euler Method with h=.25')\n",
    "ax.plot(tve2,yve2,'-b',label='Euler Method with h=.50')\n",
    "ax.plot(tvm,yvm,'--c',label='Midpoint Method')\n",
    "ax.plot(tvrk4,yvrk4,'-.',label='Runge-Kutta 4th Order')\n",
    "\n",
    "ax.xaxis.set_ticks_position('bottom')\n",
    "ax.spines['bottom'].set_position(('data',0)) # set position of x spine to x=0\n",
    "\n",
    "ax.yaxis.set_ticks_position('left')\n",
    "ax.spines['left'].set_position(('data',0))   # set position of y spine to y=0\n",
    "\n",
    "ax.grid('True')\n",
    "ax.set_ylim([-1,3])\n",
    "ax.set_xlim([0,2])\n",
    "ax.set_xlabel(r'$t$')\n",
    "ax.set_ylabel(r'$y(t)$')\n",
    "\n",
    "plt.legend()\n",
    "plt.savefig('a.png')\n",
    "plt.show()"
   ]
  },
  {
   "cell_type": "markdown",
   "id": "9bafd3dc",
   "metadata": {},
   "source": [
    "# Exercise 25.2"
   ]
  },
  {
   "cell_type": "markdown",
   "id": "155ce63a",
   "metadata": {},
   "source": [
    "### \n",
    "\n",
    "$$\\frac{dy}{dx} = (1+2x)\\sqrt{y}, x = 0 \\text{ to } 1, y(0)=1, h = .25$$"
   ]
  },
  {
   "cell_type": "code",
   "execution_count": 307,
   "id": "38c05e67",
   "metadata": {},
   "outputs": [],
   "source": [
    "from sympy.interactive import printing\n",
    "printing.init_printing(use_latex=True)\n",
    "import sympy as sp\n",
    "import numpy as np\n",
    "import matplotlib.pyplot as plt"
   ]
  },
  {
   "cell_type": "markdown",
   "id": "9b4465e2",
   "metadata": {},
   "source": [
    "## Function Definition"
   ]
  },
  {
   "cell_type": "code",
   "execution_count": 308,
   "id": "1d13414a",
   "metadata": {},
   "outputs": [],
   "source": [
    "def dydx(x,y):\n",
    "    return (1+2*x)*sp.sqrt(y)"
   ]
  },
  {
   "cell_type": "markdown",
   "id": "1f72ebf8",
   "metadata": {},
   "source": [
    "## Analytical Solution"
   ]
  },
  {
   "cell_type": "code",
   "execution_count": 309,
   "id": "6842668c",
   "metadata": {},
   "outputs": [
    {
     "data": {
      "image/png": "[encoded data removed]",
      "text/latex": [
       "$\\displaystyle y{\\left(x \\right)} = \\frac{C_{1}^{2}}{4} + \\frac{C_{1} x^{2}}{2} + \\frac{C_{1} x}{2} + \\frac{x^{4}}{4} + \\frac{x^{3}}{2} + \\frac{x^{2}}{4}$"
      ],
      "text/plain": [
       "         2       2           4    3    2\n",
       "       C₁    C₁⋅x    C₁⋅x   x    x    x \n",
       "y(x) = ─── + ───── + ──── + ── + ── + ──\n",
       "        4      2      2     4    2    4 "
      ]
     },
     "execution_count": 309,
     "metadata": {},
     "output_type": "execute_result"
    }
   ],
   "source": [
    "x = sp.symbols('x')\n",
    "y = sp.Function('y')\n",
    "\n",
    "deq = sp.Eq(y(x).diff(x),(1+2*x)*sp.sqrt(y(x)))\n",
    "sp.dsolve(deq,y(x))"
   ]
  },
  {
   "cell_type": "markdown",
   "id": "f925fd32",
   "metadata": {},
   "source": [
    "### \n",
    "\n",
    "$$y(x) = 1 + x^{2} + x + \\frac{x^{4}}{4} + \\frac{x^{2}}{2} + \\frac{x^{2}}{4} \\text{ with } C_{1} = 2$$\n",
    "$$y(x) = 1 - x^{2} - x + \\frac{x^{4}}{4} + \\frac{x^{2}}{2} + \\frac{x^{2}}{4} \\text{ with } C_{1} = -2$$\n",
    "\n",
    "The automatic solution does not work since $C_{1}$ is of 2 degree. dsolve cant generate family of solutions."
   ]
  },
  {
   "cell_type": "markdown",
   "id": "36b6ab8f",
   "metadata": {},
   "source": [
    "## Euler's Method"
   ]
  },
  {
   "cell_type": "code",
   "execution_count": 310,
   "id": "4e915ab7",
   "metadata": {},
   "outputs": [],
   "source": [
    "# 25.2(b)\n",
    "\n",
    "def euler(xi,yi,h,xlim):\n",
    "    \n",
    "    nval = int((xlim-xi)/h)+1  # the no of x & y values be generated\n",
    "    x = np.zeros(nval+1)\n",
    "    y = np.zeros(nval+1)\n",
    "    \n",
    "    x[0] = xi # initializing t\n",
    "    y[0] = yi # initializing y\n",
    "    \n",
    "    for i in range(0,nval):\n",
    "            \n",
    "            y[i+1] = y[i] + dydx(x[i],y[i])\n",
    "            x[i+1] = x[i] + h  # incrementing t value for next iteration\n",
    "            \n",
    "    return x,y"
   ]
  },
  {
   "cell_type": "code",
   "execution_count": 311,
   "id": "49fd00c7",
   "metadata": {},
   "outputs": [],
   "source": [
    "xve,yve = euler(0,1,.25,1)"
   ]
  },
  {
   "cell_type": "markdown",
   "id": "61bce8be",
   "metadata": {},
   "source": [
    "## Heun's Method"
   ]
  },
  {
   "cell_type": "code",
   "execution_count": 312,
   "id": "fa49040d",
   "metadata": {},
   "outputs": [],
   "source": [
    "# y'_{i} = f(x_{i}, y_{i})\n",
    "# y'_{i+1} = f(x_{i+1}, y_{i+1})\n",
    "# average slope = (f(x_{i}, y_{i})+f(x_{i+1}, y_{i+1}))/2\n",
    "# y_{i+1} = y_{i} + (f(x_{i}, y_{i})+f(x_{i+1}, y_{i+1}))*h/2\n",
    "\n",
    "def Heuns_method(xi,yi,h,xlim):\n",
    "    \n",
    "    nval = int((xlim-xi)/h) + 1\n",
    "    x = np.zeros(nval+2)\n",
    "    y = np.zeros(nval+2)\n",
    "    \n",
    "    x[0] = xi\n",
    "    y[0] = yi\n",
    "    \n",
    "    \n",
    "    for i in range(0,nval+1):\n",
    "        \n",
    "        yp = y[i] + dydx(x[i],y[i])*h # predictor\n",
    "        x[i+1] = x[i] + h # incrementing x to find slope at x_{i+1} \n",
    "        avgslope = (dydx(x[i],y[i])+dydx(x[i+1],yp))/2 # corrector\n",
    "        y[i+1] = y[i] + avgslope*h\n",
    "    \n",
    "    return x,y"
   ]
  },
  {
   "cell_type": "code",
   "execution_count": 313,
   "id": "8bf2ee57",
   "metadata": {},
   "outputs": [],
   "source": [
    "xvh,yvh = Heuns_method(0,1,.25,1)"
   ]
  },
  {
   "cell_type": "markdown",
   "id": "fe4fef81",
   "metadata": {},
   "source": [
    "## Ralston's Method"
   ]
  },
  {
   "cell_type": "code",
   "execution_count": 314,
   "id": "65bba3a2",
   "metadata": {},
   "outputs": [],
   "source": [
    "def ralstons_method(xi,yi,h,xlim):\n",
    "    \n",
    "    nval = int((xlim-xi)/h) + 1\n",
    "    x = np.zeros(nval+1)\n",
    "    y = np.zeros(nval+1)\n",
    "    \n",
    "    x[0] = xi\n",
    "    y[0] = yi\n",
    "    \n",
    "    for i in range(0,nval):\n",
    "        \n",
    "        k1 = dydx(x[i],y[i])\n",
    "        k2 = dydx(x[i]+(3/4)*h, y[i]+(3/4)*k1*h)\n",
    "        y[i+1] = y[i] + ((1/3)*k1+(2/3)*k2)*h\n",
    "        x[i+1] = x[i] + h\n",
    "        \n",
    "    return x,y"
   ]
  },
  {
   "cell_type": "code",
   "execution_count": 315,
   "id": "3ed059ac",
   "metadata": {},
   "outputs": [],
   "source": [
    "xvr,yvr = ralstons_method(0,1,.25,1)"
   ]
  },
  {
   "cell_type": "markdown",
   "id": "125dccaf",
   "metadata": {},
   "source": [
    "## RK4 Method"
   ]
  },
  {
   "cell_type": "code",
   "execution_count": 316,
   "id": "6f897573",
   "metadata": {},
   "outputs": [],
   "source": [
    "def rk4_method(xi,yi,h,xlim):\n",
    "    \n",
    "    nval = int((xlim-xi)/h)+1\n",
    "    \n",
    "    x = np.zeros(nval+1)\n",
    "    y = np.zeros(nval+1)\n",
    "    \n",
    "    x[0] = xi\n",
    "    y[0] = yi\n",
    "    \n",
    "    for i in range(0,nval):\n",
    "        \n",
    "        k1 = dydx(x[i], y[i])\n",
    "        k2 = dydx(x[i]+h/2, y[i]+k1*h/2)\n",
    "        k3 = dydx(x[i]+h/2, y[i]+k2*h/2)\n",
    "        k4 = dydx(x[i]+h, y[i]+k3*h)\n",
    "        \n",
    "        y[i+1] = y[i] + (1/6)*(k1+2*k2+2*k3+k4)*h\n",
    "        x[i+1] = x[i] + h\n",
    "        \n",
    "    return x,y"
   ]
  },
  {
   "cell_type": "code",
   "execution_count": 317,
   "id": "8ffd1db3",
   "metadata": {},
   "outputs": [],
   "source": [
    "xvrk4,yvrk4 = rk4_method(0,1,.25,1)"
   ]
  },
  {
   "cell_type": "code",
   "execution_count": 318,
   "id": "055be103",
   "metadata": {},
   "outputs": [
    {
     "data": {
      "image/png": "[encoded data removed]",
      "text/plain": [
       "<Figure size 720x360 with 1 Axes>"
      ]
     },
     "metadata": {
      "needs_background": "light"
     },
     "output_type": "display_data"
    }
   ],
   "source": [
    "# All the numerical method showd the positive version because the negative y values are not considered.\n",
    "\n",
    "xva = np.linspace(0,1,100)\n",
    "yva1 = 1 + xva**2 + xva + xva**4/4 + xva**2/2 + xva**2/4 # Euler's Heun's ralston's RK-4\n",
    "yva2 = 1 - xva**2 - xva + xva**4/4 + xva**2/2 + xva**2/4  \n",
    "\n",
    "fig,ax = plt.subplots(figsize=(10,5))\n",
    "ax.spines['right'].set_color('none')\n",
    "ax.spines['top'].set_color('none')\n",
    "\n",
    "ax.plot(xva,yva1,'--r', label = \"analytical-1st solution\")\n",
    "ax.plot(xva,yva2,'--b', label = \"analytical-2nd solution\")\n",
    "ax.plot(xve,yve,'-g', label = \"euler's method\")\n",
    "ax.plot(xvh,yvh,'-.c', label = \"Heun's method\")\n",
    "ax.plot(xvr,yvr,':m', label = \"Ralston's method\")\n",
    "ax.plot(xvrk4,yvrk4,'-.k', label = \"4th order Runge-Kutta method\")\n",
    "\n",
    "ax.xaxis.set_ticks_position('bottom')\n",
    "ax.spines['bottom'].set_position(('data',0)) # set position of x spine to x=0\n",
    "\n",
    "ax.yaxis.set_ticks_position('left')\n",
    "ax.spines['left'].set_position(('data',0))   # set position of y spine to y=0\n",
    "\n",
    "ax.grid('True')\n",
    "\n",
    "ax.set_ylim([0,17.5])\n",
    "ax.set_xlim([0,1])\n",
    "\n",
    "ax.set_xlabel(r'$t$')\n",
    "ax.set_ylabel(r'$y(t)$')\n",
    "\n",
    "plt.legend()\n",
    "\n",
    "plt.show()"
   ]
  },
  {
   "cell_type": "code",
   "execution_count": null,
   "id": "1b55978e",
   "metadata": {},
   "outputs": [],
   "source": [
    "def dydx(t,y):\n",
    "    slopes = np.zeros(np.shape(y))\n",
    "    y[0] = y[1]\n",
    "    y[1] = "
   ]
  },
  {
   "cell_type": "markdown",
   "id": "7b78a809",
   "metadata": {},
   "source": [
    "# Execise 25.3"
   ]
  },
  {
   "cell_type": "markdown",
   "id": "c0d2c896",
   "metadata": {},
   "source": [
    "## \n",
    "\n",
    "$$\\frac{d^{2}y}{dt^{2}}-t+y=0, x = 0 \\text{ to } 4, y(0) = 2 \\text{ and }, y'(0)=0, h = 0.1$$\n",
    "\n",
    "It's an initial value problem because all the b.c. are given at initial condition\n",
    "\n",
    "\n",
    "### We will transform the 2nd order into two first order differential equation and solve them simultaneously to solve it\n",
    "$$\\frac{d^{2}y}{dt^{2}} = \\frac{dy_1}{dx}$$\n",
    "\n",
    "$$\\frac{dy}{dt} = y_{1},y(0) = 2$$\n",
    "\n",
    "$$ \\frac{dy_1}{dt}=t-y, y_{1}(0) = 0$$"
   ]
  },
  {
   "cell_type": "markdown",
   "id": "9b747acc",
   "metadata": {},
   "source": [
    "## Analytical Solution"
   ]
  },
  {
   "cell_type": "code",
   "execution_count": 319,
   "id": "2714ec45",
   "metadata": {},
   "outputs": [
    {
     "data": {
      "image/png": "[encoded data removed]",
      "text/latex": [
       "$\\displaystyle y{\\left(t \\right)} = t - \\sin{\\left(t \\right)} + 2 \\cos{\\left(t \\right)}$"
      ],
      "text/plain": [
       "y(t) = t - sin(t) + 2⋅cos(t)"
      ]
     },
     "execution_count": 319,
     "metadata": {},
     "output_type": "execute_result"
    }
   ],
   "source": [
    "t = sp.symbols('t')\n",
    "y = sp.Function('y')\n",
    "\n",
    "deq = sp.Eq(y(t).diff(t,t)-t+y(t),0)\n",
    "sp.dsolve(deq,ics = {y(0):2, y(t).diff(t).subs(t,0):0})"
   ]
  },
  {
   "cell_type": "markdown",
   "id": "ae51c88a",
   "metadata": {},
   "source": [
    "## Function Definition"
   ]
  },
  {
   "cell_type": "code",
   "execution_count": 320,
   "id": "e061ddc1",
   "metadata": {},
   "outputs": [],
   "source": [
    "def simdeq(t,y,y1,n):\n",
    "    if(n == 0):\n",
    "        return y1\n",
    "    elif(n == 1):\n",
    "        return t-y"
   ]
  },
  {
   "cell_type": "code",
   "execution_count": 321,
   "id": "54640396",
   "metadata": {},
   "outputs": [],
   "source": [
    "def simuleuler(ti,yi,y1i,h,tlim):\n",
    "    \n",
    "    nval = int((tlim-ti)/h) + 1\n",
    "    \n",
    "    t = np.zeros(nval+1)\n",
    "    y = np.zeros(shape=(nval+1,2))\n",
    "    \n",
    "    t[0] = ti\n",
    "    y[0][0] = yi\n",
    "    y[0][1] = y1i\n",
    "    \n",
    "    for i in range(0,nval):\n",
    "        for j in range(0,2):\n",
    "            y[i+1][j] = y[i][j] + simdeq(t[i],y[i][0],y[i][1],j)*h\n",
    "            t[i+1] = t[i] + h\n",
    "    return t,y        "
   ]
  },
  {
   "cell_type": "code",
   "execution_count": 322,
   "id": "4649301b",
   "metadata": {},
   "outputs": [],
   "source": [
    "tve,yve = simuleuler(0,2,0,.1,4)"
   ]
  },
  {
   "cell_type": "markdown",
   "id": "109d9ded",
   "metadata": {},
   "source": [
    "## Heun's Method"
   ]
  },
  {
   "cell_type": "code",
   "execution_count": 323,
   "id": "b62db043",
   "metadata": {},
   "outputs": [],
   "source": [
    "def heuns_method(ti,yi,y1i,h,tlim):\n",
    "    nval = int((tlim-ti)/h) + 1\n",
    "    \n",
    "    t = np.zeros(nval+1)\n",
    "    yp = np.zeros(2)\n",
    "    y = np.zeros(shape=(nval+1,2))\n",
    "    \n",
    "    t[0] = ti\n",
    "    y[0][0] = yi\n",
    "    y[0][1] = y1i\n",
    "    \n",
    "    for i in range(0,nval):\n",
    "        \n",
    "        for j in range(0,2):\n",
    "            yp[j] = y[i][j] + simdeq(t[i],y[i][0],y[i][1],j)\n",
    "            t[i+1] = t[i] + h\n",
    "            avgslope = (simdeq(t[i],y[i][0],y[i][1],j)+simdeq(t[i+1],yp[0],yp[1],j))/2\n",
    "            y[i+1][j] = y[i][j] + avgslope*h\n",
    "        \n",
    "    return t,y"
   ]
  },
  {
   "cell_type": "code",
   "execution_count": 324,
   "id": "c697d767",
   "metadata": {},
   "outputs": [],
   "source": [
    "tvh,yvh = heuns_method(0,2,0,.1,4)"
   ]
  },
  {
   "cell_type": "code",
   "execution_count": 325,
   "id": "6cc9ffc6",
   "metadata": {},
   "outputs": [
    {
     "data": {
      "text/plain": [
       "array([2.  , 2.  , 1.89, 1.77, 1.64, 1.51, 1.38, 1.25, 1.13, 1.02, 0.93,\n",
       "       0.84, 0.77, 0.71, 0.67, 0.65, 0.64, 0.65, 0.68, 0.72, 0.78, 0.85,\n",
       "       0.94, 1.04, 1.15, 1.27, 1.4 , 1.54, 1.69, 1.84, 2.  , 2.16, 2.33,\n",
       "       2.49, 2.66, 2.82, 2.99, 3.15, 3.31, 3.46, 3.62, 3.76])"
      ]
     },
     "execution_count": 325,
     "metadata": {},
     "output_type": "execute_result"
    }
   ],
   "source": [
    "yvh.T[0]"
   ]
  },
  {
   "cell_type": "code",
   "execution_count": 326,
   "id": "240a7298",
   "metadata": {},
   "outputs": [
    {
     "data": {
      "image/png": "[encoded data removed]",
      "text/plain": [
       "<Figure size 720x360 with 1 Axes>"
      ]
     },
     "metadata": {
      "needs_background": "light"
     },
     "output_type": "display_data"
    }
   ],
   "source": [
    "tva = np.linspace(0,4,100)\n",
    "yva = tva - np.sin(tva) + 2*np.cos(tva)\n",
    "\n",
    "fig,ax = plt.subplots(figsize=(10,5))\n",
    "ax.spines['right'].set_color('none')\n",
    "ax.spines['top'].set_color('none')\n",
    "\n",
    "ax.plot(tva,yva,'--r', label = \"analytical-1st solution\")\n",
    "ax.plot(tve,yve.T[0],'--b', label = \"Euler's Method\")\n",
    "ax.plot(tvh,yvh.T[0],'-.c', label = \"Heun's method\")\n",
    "\n",
    "ax.xaxis.set_ticks_position('bottom')\n",
    "ax.spines['bottom'].set_position(('data',0)) # set position of x spine to x=0\n",
    "\n",
    "ax.yaxis.set_ticks_position('left')\n",
    "ax.spines['left'].set_position(('data',0))   # set position of y spine to y=0\n",
    "\n",
    "ax.grid('True')\n",
    "\n",
    "ax.set_ylim([0,17.5])\n",
    "ax.set_xlim([0,4])\n",
    "\n",
    "ax.set_xlabel(r'$t$')\n",
    "ax.set_ylabel(r'$y(t)$')\n",
    "\n",
    "plt.legend()\n",
    "\n",
    "plt.show()"
   ]
  },
  {
   "cell_type": "markdown",
   "id": "d1f0c66e",
   "metadata": {},
   "source": [
    "## Exercise 25.4"
   ]
  },
  {
   "cell_type": "markdown",
   "id": "4fc31d0a",
   "metadata": {},
   "source": [
    "## $$\\frac{d^{2}y}{dx^{2}} + 0.5\\frac{dy}{dx}+7y=0, y(0) = 4, y'(0) = 0, x = 0 \\text{ to }5, h=0.5$$\n",
    "\n",
    "##  $$\\frac{dy}{dx} = y_{1}, \\text{ }y(0) = 4$$\n",
    "\n",
    "## $$\\frac{dy_{1}}{dx} = -7y-0.5y_{1}, \\text{ }y_{1}(0) = 0$$"
   ]
  },
  {
   "cell_type": "code",
   "execution_count": 327,
   "id": "ba0454fb",
   "metadata": {},
   "outputs": [],
   "source": [
    "from sympy.interactive import printing\n",
    "printing.init_printing(use_latex=True)\n",
    "import sympy as sp\n",
    "import numpy as np\n",
    "import matplotlib.pyplot as plt"
   ]
  },
  {
   "cell_type": "markdown",
   "id": "0c958d09",
   "metadata": {},
   "source": [
    "## Analytical Solution"
   ]
  },
  {
   "cell_type": "code",
   "execution_count": 330,
   "id": "3b5e66c4",
   "metadata": {},
   "outputs": [
    {
     "data": {
      "image/png": "[encoded data removed]",
      "text/latex": [
       "$\\displaystyle y{\\left(x \\right)} = \\left(0.379663198301 \\sin{\\left(2.63391343821318 x \\right)} + 4.0 \\cos{\\left(2.63391343821318 x \\right)}\\right) e^{- 0.25 x}$"
      ],
      "text/plain": [
       "                                                                              \n",
       "y(x) = (0.379663198301⋅sin(2.63391343821318⋅x) + 4.0⋅cos(2.63391343821318⋅x))⋅\n",
       "\n",
       " -0.25⋅x\n",
       "ℯ       "
      ]
     },
     "execution_count": 330,
     "metadata": {},
     "output_type": "execute_result"
    }
   ],
   "source": [
    "x = sp.symbols('x')\n",
    "y = sp.Function('y')\n",
    "\n",
    "deq = sp.Eq(y(x).diff(x,x)+0.5*y(x).diff(x)+7*y(x),0)\n",
    "sp.dsolve(deq, ics = {y(0):4, y(x).diff(x).subs(x,0):0})"
   ]
  },
  {
   "cell_type": "code",
   "execution_count": 331,
   "id": "a67f0d45",
   "metadata": {},
   "outputs": [
    {
     "data": {
      "text/plain": [
       "array([ 4.00e+00,  3.11e+00,  9.71e-01, -1.33e+00, -2.76e+00, -2.82e+00,\n",
       "       -1.63e+00,  1.14e-01,  1.60e+00,  2.20e+00,  1.77e+00,  6.21e-01,\n",
       "       -6.58e-01, -1.49e+00, -1.57e+00, -9.57e-01, -6.27e-05,  8.39e-01,\n",
       "        1.21e+00,  1.01e+00])"
      ]
     },
     "execution_count": 331,
     "metadata": {},
     "output_type": "execute_result"
    }
   ],
   "source": [
    "x = np.linspace(0,5,20)\n",
    "\n",
    "y = (0.379663198301*np.sin(2.63391343821318*𝑥)+4.0*np.cos(2.63391343821318*𝑥))*np.exp(-0.25*𝑥)\n",
    "y"
   ]
  },
  {
   "cell_type": "markdown",
   "id": "11da4d93",
   "metadata": {},
   "source": [
    "## RK4 Method"
   ]
  },
  {
   "cell_type": "code",
   "execution_count": 332,
   "id": "b63f10bd",
   "metadata": {},
   "outputs": [],
   "source": [
    "def simuleq(x,y,y1,n):\n",
    "    if n==0:\n",
    "        return y1\n",
    "    elif n==1:\n",
    "        return -7*y-0.5*y1"
   ]
  },
  {
   "cell_type": "code",
   "execution_count": 333,
   "id": "57d620ba",
   "metadata": {},
   "outputs": [],
   "source": [
    "def rk4method(xi,yi,y1i,h,xlim):\n",
    "    \n",
    "    nval = int((xlim-xi)/h)+1\n",
    "    \n",
    "    x = np.zeros(nval+1)\n",
    "    y = np.zeros(shape=(nval+1,2))\n",
    "    \n",
    "    k1 = np.zeros(2)\n",
    "    k2 = np.zeros(2)\n",
    "    k3 = np.zeros(2)\n",
    "    k4 = np.zeros(2)\n",
    "    \n",
    "    x[0] = xi\n",
    "    y[0][0] = yi\n",
    "    y[0][1] = y1i\n",
    "    \n",
    "    for i in range(0,nval):\n",
    "        for j in range(0,2):\n",
    "            k1[j] = simuleq(x[i],y[i][0],y[i][1],j)\n",
    "        for j in range(0,2):\n",
    "            k2[j] = simuleq(x[i]+h/2,y[i][0]+k1[0]*h/2,y[i][1]+k1[1]*h/2,j) \n",
    "        for j in range(0,2):\n",
    "            k3[j] = simuleq(x[i]+h/2,y[i][0]+k2[0]*h/2,y[i][1]+k2[1]*h/2,j)\n",
    "        for j in range(0,2):\n",
    "            k4[j] = simuleq(x[i]+h,y[i][0]+k3[0]*h,y[i][1]+k3[1]*h,j)\n",
    "        \n",
    "        for j in range(0,2):\n",
    "            y[i+1][j] = y[i][j] + (1/6)*(k1[j]+2*k2[j]+2*k3[j]+k4[j])*h\n",
    "            x[i+1] = x[i] + h\n",
    "    return x,y"
   ]
  },
  {
   "cell_type": "code",
   "execution_count": 334,
   "id": "6258b9e9",
   "metadata": {},
   "outputs": [],
   "source": [
    "xrk4,yrk4 = rk4method(0,4,0,.5,5)"
   ]
  },
  {
   "cell_type": "code",
   "execution_count": 335,
   "id": "c826318d",
   "metadata": {},
   "outputs": [
    {
     "data": {
      "image/png": "[encoded data removed]",
      "text/plain": [
       "<Figure size 720x360 with 1 Axes>"
      ]
     },
     "metadata": {
      "needs_background": "light"
     },
     "output_type": "display_data"
    }
   ],
   "source": [
    "xva = np.linspace(0,5,100)\n",
    "yva = np.exp(-xva/4)*((4/np.sqrt(111))*np.sin((np.sqrt(2)/4)*xva)+4*np.cos((np.sqrt(111)/4)*xva))\n",
    "\n",
    "fig,ax = plt.subplots(figsize=(10,5))\n",
    "ax.spines['right'].set_color('none')\n",
    "ax.spines['top'].set_color('none')\n",
    "\n",
    "ax.plot(xva,yva,'-.b',label = \"Analytical Solution\")\n",
    "ax.plot(xrk4,yrk4.T[0],'--r', label = \"4th order RK method\")\n",
    "\n",
    "ax.xaxis.set_ticks_position('bottom')\n",
    "ax.spines['bottom'].set_position(('data',0)) # set position of x spine to x=0\n",
    "\n",
    "ax.yaxis.set_ticks_position('left')\n",
    "ax.spines['left'].set_position(('data',0))   # set position of y spine to y=0\n",
    "\n",
    "ax.grid('True')\n",
    "\n",
    "ax.set_ylim([-6,6])\n",
    "ax.set_xlim([0,5])\n",
    "\n",
    "ax.set_xlabel(r'$t$')\n",
    "ax.set_ylabel(r'$y(t)$')\n",
    "\n",
    "plt.legend()\n",
    "\n",
    "plt.show()"
   ]
  },
  {
   "cell_type": "markdown",
   "id": "969172c4",
   "metadata": {},
   "source": [
    "## Exercise 25.5"
   ]
  },
  {
   "cell_type": "markdown",
   "id": "5c2188e6",
   "metadata": {},
   "source": [
    "## $$\\frac{dy}{dt} = y\\sin^{3}(t), t= 0 \\text{ to } 3, y(0)=1, h=0.1$$"
   ]
  },
  {
   "cell_type": "code",
   "execution_count": 336,
   "id": "6c23dca6",
   "metadata": {},
   "outputs": [
    {
     "data": {
      "image/png": "[encoded data removed]",
      "text/latex": [
       "$\\displaystyle y{\\left(t \\right)} = e^{\\frac{2}{3}} e^{\\left(\\frac{\\cos^{2}{\\left(t \\right)}}{3} - 1\\right) \\cos{\\left(t \\right)}}$"
      ],
      "text/plain": [
       "             ⎛   2       ⎞       \n",
       "             ⎜cos (t)    ⎟       \n",
       "             ⎜─────── - 1⎟⋅cos(t)\n",
       "        2/3  ⎝   3       ⎠       \n",
       "y(t) = ℯ   ⋅ℯ                    "
      ]
     },
     "execution_count": 336,
     "metadata": {},
     "output_type": "execute_result"
    }
   ],
   "source": [
    "t = sp.symbols('t')\n",
    "y = sp.Function('y')\n",
    "\n",
    "deq = sp.Eq(y(t).diff(t),y(t)*(sp.sin(t))**3)\n",
    "sp.dsolve(deq, ics = {y(0):1})"
   ]
  },
  {
   "cell_type": "markdown",
   "id": "e97f6a11",
   "metadata": {},
   "source": [
    "## $$y(t) = e^{(\\frac{\\cos^{3}(t)}{3}-\\cos(t)+\\frac{2}{3})}$$"
   ]
  },
  {
   "cell_type": "code",
   "execution_count": 337,
   "id": "028ad402",
   "metadata": {},
   "outputs": [],
   "source": [
    "ta = np.linspace(0,3,100)\n",
    "\n",
    "ya = np.exp( (np.cos(ta))**3/3 - np.cos(ta) +2/3 )"
   ]
  },
  {
   "cell_type": "code",
   "execution_count": 338,
   "id": "efe9df38",
   "metadata": {},
   "outputs": [],
   "source": [
    "def dydt(t,y):\n",
    "    return y*np.sin(t)**3"
   ]
  },
  {
   "cell_type": "code",
   "execution_count": 339,
   "id": "ff2e9a8f",
   "metadata": {},
   "outputs": [],
   "source": [
    "# (a) \n",
    "\n",
    "def heuns_method(ti,yi,h,tlim):\n",
    "    \n",
    "    nval = int((tlim-ti)/h) + 1\n",
    "    t = np.zeros(nval+2)\n",
    "    y = np.zeros(nval+2)\n",
    "    \n",
    "    t[0] = ti\n",
    "    y[0] = yi\n",
    "    \n",
    "    \n",
    "    for i in range(0,nval+1):\n",
    "        \n",
    "        yp = y[i] + dydt(t[i],y[i])*h # predictor\n",
    "        t[i+1] = t[i] + h # incrementing x to find slope at x_{i+1} \n",
    "        avgslope = (dydt(t[i],y[i])+dydt(t[i+1],yp))/2 # corrector\n",
    "        y[i+1] = y[i] + avgslope*h\n",
    "    \n",
    "    return t,y"
   ]
  },
  {
   "cell_type": "code",
   "execution_count": 340,
   "id": "08ee5eeb",
   "metadata": {},
   "outputs": [],
   "source": [
    "tvh,yvh = heuns_method(0,1,.1,3)"
   ]
  },
  {
   "cell_type": "code",
   "execution_count": 341,
   "id": "a9816ddf",
   "metadata": {},
   "outputs": [],
   "source": [
    "# (b)\n",
    "\n",
    "def ralstons_method(ti,yi,h,tlim):\n",
    "    \n",
    "    nval = int((tlim-ti)/h) + 1\n",
    "    t = np.zeros(nval+2)\n",
    "    y = np.zeros(nval+2)\n",
    "    \n",
    "    t[0] = ti\n",
    "    y[0] = yi\n",
    "    \n",
    "    for i in range(0,nval+1):\n",
    "        k1 = dydt(t[i],y[i])\n",
    "        k2 = dydt(t[i]+(3/4)*h, y[i]+(3/4)*k1*h)\n",
    "        y[i+1] = y[i] + ((1/3)*k1+(2/3)*k2)*h\n",
    "        t[i+1] = t[i] + h\n",
    "        \n",
    "    return t,y"
   ]
  },
  {
   "cell_type": "code",
   "execution_count": 342,
   "id": "6166aa08",
   "metadata": {},
   "outputs": [],
   "source": [
    "tvr,yvr = ralstons_method(0,1,.1,3)"
   ]
  },
  {
   "cell_type": "code",
   "execution_count": 343,
   "id": "8df25d79",
   "metadata": {},
   "outputs": [
    {
     "data": {
      "image/png": "[encoded data removed]",
      "text/plain": [
       "<Figure size 720x360 with 1 Axes>"
      ]
     },
     "metadata": {
      "needs_background": "light"
     },
     "output_type": "display_data"
    }
   ],
   "source": [
    "fig,ax = plt.subplots(figsize=(10,5))\n",
    "ax.spines['right'].set_color('none')\n",
    "ax.spines['top'].set_color('none')\n",
    "\n",
    "ax.plot(ta,ya,'-.b',label = \"Analytical Solution\")\n",
    "ax.plot(tvh,yvh,'--r', label = \"Heun's Method\")\n",
    "ax.plot(tvr,yvr,':k', label = \"Ralston's Method\")\n",
    "\n",
    "ax.xaxis.set_ticks_position('bottom')\n",
    "ax.spines['bottom'].set_position(('data',0)) # set position of x spine to x=0\n",
    "\n",
    "ax.yaxis.set_ticks_position('left')\n",
    "ax.spines['left'].set_position(('data',0))   # set position of y spine to y=0\n",
    "\n",
    "ax.grid('True')\n",
    "\n",
    "ax.set_ylim([0,10])\n",
    "ax.set_xlim([0,3])\n",
    "\n",
    "ax.set_xlabel(r'$t$')\n",
    "ax.set_ylabel(r'$y(t)$')\n",
    "\n",
    "plt.legend()\n",
    "\n",
    "plt.show()"
   ]
  },
  {
   "cell_type": "markdown",
   "id": "8fe8d5f2",
   "metadata": {},
   "source": [
    "## Example 25.6"
   ]
  },
  {
   "cell_type": "markdown",
   "id": "c9904b03",
   "metadata": {},
   "source": [
    "## $$\\frac{dy}{dt}=-y+t^{2},y(0)=1, t= 0 \\text{ to }3,h=.5$$"
   ]
  },
  {
   "cell_type": "code",
   "execution_count": 344,
   "id": "1ea33545",
   "metadata": {},
   "outputs": [
    {
     "data": {
      "image/png": "[encoded data removed]",
      "text/latex": [
       "$\\displaystyle y{\\left(t \\right)} = t^{2} - 2 t + 2 - e^{- t}$"
      ],
      "text/plain": [
       "        2              -t\n",
       "y(t) = t  - 2⋅t + 2 - ℯ  "
      ]
     },
     "execution_count": 344,
     "metadata": {},
     "output_type": "execute_result"
    }
   ],
   "source": [
    "t = sp.symbols('t')\n",
    "y = sp.Function('y')\n",
    "\n",
    "deq = sp.Eq(y(t).diff(t),-y(t)+t**2)\n",
    "sp.dsolve(deq, ics = {y(0):1})"
   ]
  },
  {
   "cell_type": "code",
   "execution_count": 345,
   "id": "cdaff48c",
   "metadata": {},
   "outputs": [],
   "source": [
    "ta = np.linspace(0,3,100)\n",
    "ya = ta**2 - 2*ta + 2 - np.exp(-ta)"
   ]
  },
  {
   "cell_type": "code",
   "execution_count": 346,
   "id": "5c56c219",
   "metadata": {},
   "outputs": [],
   "source": [
    "def dydt(t,y):\n",
    "    return -y + t**2"
   ]
  },
  {
   "cell_type": "code",
   "execution_count": 347,
   "id": "8fa003d1",
   "metadata": {},
   "outputs": [],
   "source": [
    "def rk3_method(ti,yi,h,tlim):\n",
    "    \n",
    "    nval = int((tlim-ti)/h) + 1\n",
    "    t = np.zeros(nval+2)\n",
    "    y = np.zeros(nval+2)\n",
    "    \n",
    "    t[0] = ti\n",
    "    y[0] = yi\n",
    "    \n",
    "    for i in range(0,nval+1):\n",
    "        k1 = dydt(t[i],y[i])\n",
    "        k2 = dydt(t[i]+h/2, y[i]+k1*h/2)\n",
    "        k3 = dydt(t[i]+h, y[i]-k1*h+2*k2*h)\n",
    "        \n",
    "        y[i+1] = y[i] + (1/6)*(k1+4*k2+k3)*h\n",
    "        t[i+1] = t[i] + h\n",
    "        \n",
    "    return t,y "
   ]
  },
  {
   "cell_type": "code",
   "execution_count": 348,
   "id": "1ac64dcd",
   "metadata": {},
   "outputs": [
    {
     "data": {
      "text/plain": [
       "(array([0. , 0.5, 1. , 1.5, 2. , 2.5, 3. , 3.5, 4. ]),\n",
       " array([1.  , 0.64, 0.63, 1.02, 1.86, 3.16, 4.94, 7.21, 9.97]))"
      ]
     },
     "execution_count": 348,
     "metadata": {},
     "output_type": "execute_result"
    }
   ],
   "source": [
    "rk3_method(0,1,.5,3)"
   ]
  },
  {
   "cell_type": "code",
   "execution_count": 349,
   "id": "7b06a035",
   "metadata": {},
   "outputs": [],
   "source": [
    "tvrk3,yvrk3 = rk3_method(0,1,.5,3)"
   ]
  },
  {
   "cell_type": "code",
   "execution_count": 350,
   "id": "79ee653a",
   "metadata": {},
   "outputs": [
    {
     "data": {
      "image/png": "[encoded data removed]",
      "text/plain": [
       "<Figure size 720x360 with 1 Axes>"
      ]
     },
     "metadata": {
      "needs_background": "light"
     },
     "output_type": "display_data"
    }
   ],
   "source": [
    "fig,ax = plt.subplots(figsize=(10,5))\n",
    "ax.spines['right'].set_color('none')\n",
    "ax.spines['top'].set_color('none')\n",
    "\n",
    "ax.plot(ta,ya,'-.b',label = \"Analytical Solution\")\n",
    "ax.plot(tvrk3,yvrk3,'-.k',label = \"3rd Order RK method\")\n",
    "\n",
    "ax.xaxis.set_ticks_position('bottom')\n",
    "ax.spines['bottom'].set_position(('data',0)) # set position of x spine to x=0\n",
    "\n",
    "ax.yaxis.set_ticks_position('left')\n",
    "ax.spines['left'].set_position(('data',0))   # set position of y spine to y=0\n",
    "\n",
    "ax.grid('True')\n",
    "\n",
    "ax.set_ylim([0,6])\n",
    "ax.set_xlim([0,3])\n",
    "\n",
    "ax.set_xlabel(r'$t$')\n",
    "ax.set_ylabel(r'$y(t)$')\n",
    "\n",
    "plt.legend()\n",
    "\n",
    "plt.show()"
   ]
  },
  {
   "cell_type": "markdown",
   "id": "97fe06e4",
   "metadata": {},
   "source": [
    "## Example 25.7"
   ]
  },
  {
   "cell_type": "markdown",
   "id": "6987eafa",
   "metadata": {},
   "source": [
    "## \n",
    "\n",
    "$$\\frac{dy}{dx} = -2y + 4e^{-x}$$\n",
    "\n",
    "$$\\frac{dz}{dx} = -\\frac{yz^{2}}{3}$$\n",
    "\n",
    "$$y(0) = 2, z(0) = 4, x = 0 \\text{ to } 1, h = .2$$"
   ]
  },
  {
   "cell_type": "code",
   "execution_count": 110,
   "id": "d7c27041",
   "metadata": {},
   "outputs": [],
   "source": [
    "from sympy.interactive import printing\n",
    "printing.init_printing(use_latex=True)\n",
    "import sympy as sp\n",
    "import numpy as np\n",
    "import matplotlib.pyplot as plt"
   ]
  },
  {
   "cell_type": "code",
   "execution_count": 111,
   "id": "fc561811",
   "metadata": {},
   "outputs": [],
   "source": [
    "def equationlist(x,y,z,n):\n",
    "    if n==0:\n",
    "        return -2*y+4*np.exp(-x)\n",
    "    elif n==1:\n",
    "        return -(y*z**2)/3"
   ]
  },
  {
   "cell_type": "code",
   "execution_count": 112,
   "id": "9f0320be",
   "metadata": {},
   "outputs": [],
   "source": [
    "# (a)\n",
    "\n",
    "def euler(xi,yi,zi,h,xlim):\n",
    "    \n",
    "    nval = int((xlim-xi)/h) + 1\n",
    "    x = np.zeros(nval+2)\n",
    "    y = np.zeros(nval+2)\n",
    "    z = np.zeros(nval+2)\n",
    "    \n",
    "    x[0] = xi\n",
    "    y[0] = yi\n",
    "    z[0] = zi\n",
    "    \n",
    "    for i in range(0,nval+1):\n",
    "        \n",
    "        y[i+1] = y[i] + equationlist(x[i],y[i],z[i],0)*h\n",
    "        z[i+1] = z[i] + equationlist(x[i],y[i],z[i],1)*h\n",
    "        \n",
    "        x[i+1] = x[i] + h\n",
    "        \n",
    "    return x,y,z"
   ]
  },
  {
   "cell_type": "code",
   "execution_count": 113,
   "id": "868aeaa2",
   "metadata": {},
   "outputs": [],
   "source": [
    "xve,yve,zve = euler(0,2,4,.2,1)"
   ]
  },
  {
   "cell_type": "code",
   "execution_count": 114,
   "id": "507f7997",
   "metadata": {},
   "outputs": [],
   "source": [
    "# (b)\n",
    "\n",
    "def rk4_method(xi,yi,zi,h,xlim):\n",
    "    \n",
    "    nval = int((xlim-xi)/h)\n",
    "    x = np.zeros(nval+1)\n",
    "    y = np.zeros(nval+1)\n",
    "    z = np.zeros(nval+1)\n",
    "    \n",
    "    k1 = np.zeros(2)\n",
    "    k2 = np.zeros(2)\n",
    "    k3 = np.zeros(2)\n",
    "    k4 = np.zeros(2)\n",
    "    \n",
    "    x[0] = xi\n",
    "    y[0] = yi\n",
    "    z[0] = zi\n",
    "    \n",
    "    for i in range(0,nval):\n",
    "        for j in range(0,2):\n",
    "            k1[j] = equationlist(x[i], y[i], z[i], j)\n",
    "        for j in range(0,2):\n",
    "            k2[j] = equationlist(x[i]+h/2, y[i]+k1[0]*h/2, z[i]+k1[1]*h/2, j)\n",
    "        for j in range(0,2):\n",
    "            k3[j] = equationlist(x[i]+h/2, y[i]+k2[0]*h/2, z[i]+k2[1]*h/2, j)\n",
    "        for j in range(0,2):\n",
    "            k4[j] = equationlist(x[i]+h, y[i]+k3[0]*h, z[i]+k3[1]*h, j)\n",
    "            \n",
    "        y[i+1] = y[i] + (1/6)*(k1[0]+2*k2[0]+2*k3[0]+k4[0])*h\n",
    "        z[i+1] = z[i] + (1/6)*(k1[1]+2*k2[1]+2*k3[1]+k4[1])*h\n",
    "        \n",
    "        x[i+1] = x[i] + h\n",
    "        \n",
    "    return x,y,z"
   ]
  },
  {
   "cell_type": "code",
   "execution_count": 115,
   "id": "18d5bc3d",
   "metadata": {},
   "outputs": [],
   "source": [
    "xvrk4,yvrk4,zvrk4 = rk4_method(0,2,4,.2,1)"
   ]
  },
  {
   "cell_type": "code",
   "execution_count": 357,
   "id": "1cf5367f",
   "metadata": {},
   "outputs": [
    {
     "data": {
      "text/plain": [
       "array([2.  , 1.93, 1.78, 1.59, 1.39, 1.2 ])"
      ]
     },
     "execution_count": 357,
     "metadata": {},
     "output_type": "execute_result"
    }
   ],
   "source": [
    "yvrk4"
   ]
  },
  {
   "cell_type": "code",
   "execution_count": 116,
   "id": "c8730ba7",
   "metadata": {},
   "outputs": [
    {
     "data": {
      "image/png": "[encoded data removed]",
      "text/plain": [
       "<Figure size 1008x360 with 2 Axes>"
      ]
     },
     "metadata": {
      "needs_background": "light"
     },
     "output_type": "display_data"
    }
   ],
   "source": [
    "fig,(ax1,ax2) = plt.subplots(1,2,figsize=(14,5))\n",
    "\n",
    "ax1.spines['right'].set_color('none')\n",
    "ax1.spines['top'].set_color('none')\n",
    "\n",
    "ax2.spines['right'].set_color('none')\n",
    "ax2.spines['top'].set_color('none')\n",
    "\n",
    "ax1.plot(xve,yve,'-.b',label = \"Euler Method(y)\")\n",
    "ax1.plot(xvrk4,yvrk4,'-.r',label = \"4th order RK method(y)\")\n",
    "\n",
    "ax2.plot(xve,zve,'-.b',label = \"Euler Method(z)\")\n",
    "ax2.plot(xvrk4,zvrk4,'-.r',label = \"4th order RK method(y)\")\n",
    "\n",
    "ax1.xaxis.set_ticks_position('bottom')\n",
    "ax1.spines['bottom'].set_position(('data',0)) # set position of x spine to x=0\n",
    "\n",
    "ax1.yaxis.set_ticks_position('left')\n",
    "ax1.spines['left'].set_position(('data',0))   # set position of y spine to y=0\n",
    "\n",
    "ax2.xaxis.set_ticks_position('bottom')\n",
    "ax2.spines['bottom'].set_position(('data',0)) # set position of x spine to x=0\n",
    "\n",
    "ax2.yaxis.set_ticks_position('left')\n",
    "ax2.spines['left'].set_position(('data',0))   # set position of y spine to y=0\n",
    "\n",
    "ax1.grid('True')\n",
    "\n",
    "ax2.grid('True')\n",
    "\n",
    "ax1.set_ylim([0,6])\n",
    "ax1.set_xlim([0,1])\n",
    "\n",
    "ax2.set_ylim([0,6])\n",
    "ax2.set_xlim([0,1])\n",
    "\n",
    "ax1.set_xlabel(r'$x$')\n",
    "ax1.set_ylabel(r'$y(x)$')\n",
    "\n",
    "ax2.set_xlabel(r'$x$')\n",
    "ax2.set_ylabel(r'$z(x)$')\n",
    "\n",
    "ax1.legend()\n",
    "\n",
    "ax2.legend()\n",
    "\n",
    "plt.show()"
   ]
  },
  {
   "cell_type": "markdown",
   "id": "b04144a5",
   "metadata": {},
   "source": [
    "## Example 25.8"
   ]
  },
  {
   "cell_type": "markdown",
   "id": "18881d6c",
   "metadata": {},
   "source": [
    "##  $$\\frac{dy}{dx}+0.6y=10e^{\\frac{-(x-2)^{2}}{2(0.075)^{2}}},y(0) = 0.5$$\n",
    "\n",
    "## (this program worked somehow). Really pissed me off while trying to make the code. It's not a professional code. But helped me understand the basics."
   ]
  },
  {
   "cell_type": "code",
   "execution_count": 359,
   "id": "f4d5e0f8",
   "metadata": {},
   "outputs": [],
   "source": [
    "from sympy.interactive import printing\n",
    "printing.init_printing(use_latex=True)\n",
    "import sympy as sp\n",
    "import numpy as np\n",
    "import matplotlib.pyplot as plt"
   ]
  },
  {
   "cell_type": "code",
   "execution_count": 360,
   "id": "6f360bc4",
   "metadata": {},
   "outputs": [
    {
     "data": {
      "image/png": "[encoded data removed]",
      "text/latex": [
       "$\\displaystyle 0.6 y{\\left(x \\right)} + \\frac{d}{d x} y{\\left(x \\right)} = 10 e^{- 88.8888888888889 \\left(x - 2\\right)^{2}}$"
      ],
      "text/plain": [
       "                                                   2\n",
       "           d              -88.8888888888889⋅(x - 2) \n",
       "0.6⋅y(x) + ──(y(x)) = 10⋅ℯ                          \n",
       "           dx                                       "
      ]
     },
     "execution_count": 360,
     "metadata": {},
     "output_type": "execute_result"
    }
   ],
   "source": [
    "x = sp.symbols('x')\n",
    "y = sp.Function('y')\n",
    "\n",
    "deq = sp.Eq(y(x).diff(x)+.6*y(x),10*sp.exp(-(x-2)**2/(2*.075**2)))\n",
    "deq"
   ]
  },
  {
   "cell_type": "code",
   "execution_count": 361,
   "id": "c54d9e00",
   "metadata": {},
   "outputs": [],
   "source": [
    "def dydx(x,y):\n",
    "    return -0.6*y + 10*np.exp(-(x-2)**2/(2*.075**2))"
   ]
  },
  {
   "cell_type": "code",
   "execution_count": 362,
   "id": "d73f4513",
   "metadata": {},
   "outputs": [],
   "source": [
    "def direct(x,y,h):\n",
    "    \n",
    "    k1 = dydx(x,y)\n",
    "    k2 = dydx(x+h/2, y+k1*h/2)\n",
    "    k3 = dydx(x+h/2, y+k2*h/2)\n",
    "    k4 = dydx(x+h, y+k3*h)\n",
    "    \n",
    "    y = y + (1/6)*(k1+2*k2+2*k3+k4)*h\n",
    "    \n",
    "    return y"
   ]
  },
  {
   "cell_type": "code",
   "execution_count": 363,
   "id": "9ced722f",
   "metadata": {},
   "outputs": [],
   "source": [
    "def halving(x,y,h):\n",
    "    \n",
    "    h = h/2\n",
    "    xh = np.zeros(3)\n",
    "    yh = np.zeros(3)\n",
    "    \n",
    "    xh[0] = x\n",
    "    yh[0] = y\n",
    "    \n",
    "    for j in range(0,2):\n",
    "        \n",
    "        k1 = dydx(xh[j],yh[j])\n",
    "        k2 = dydx(xh[j]+h/2, yh[j]+k1*h/2)\n",
    "        k3 = dydx(xh[j]+h/2, yh[j]+k2*h/2)\n",
    "        k4 = dydx(xh[j]+h, yh[j]+k3*h)\n",
    "    \n",
    "        yh[j+1] = yh[j] + (1/6)*(k1+2*k2+2*k3+k4)*h\n",
    "        xh[j+1] = xh[j] + h\n",
    "    \n",
    "    return yh[2]"
   ]
  },
  {
   "cell_type": "code",
   "execution_count": 364,
   "id": "32711305",
   "metadata": {},
   "outputs": [],
   "source": [
    "def adapt(x,y,h):\n",
    "    error = abs(direct(x,y,h) - halving(x,y,h))\n",
    "    #print('error=%.10f,h=%.6f'%(error,h))\n",
    "    if error >= 1e-9 and error <= 1e-5:\n",
    "        return h\n",
    "    elif error > 1e-5:\n",
    "        return adapt(x,y,h/2)\n",
    "    elif error < 1e-9:\n",
    "        return 2*h"
   ]
  },
  {
   "cell_type": "code",
   "execution_count": 365,
   "id": "5b056413",
   "metadata": {},
   "outputs": [],
   "source": [
    "def rk4(xi,yi,h,xlim):\n",
    "    \n",
    "    nval = 100\n",
    "    \n",
    "    x = np.zeros(nval+1)\n",
    "    y = np.zeros(nval+1)\n",
    "    \n",
    "    x[0] = xi\n",
    "    y[0] = yi\n",
    "    \n",
    "    for i in range(0,nval):\n",
    "        \n",
    "        h = adapt(x[i],y[i],h)\n",
    "        y[i+1] = direct(x[i],y[i],h)\n",
    "        x[i+1] = x[i] + h\n",
    "        if x[i+1] >=4:\n",
    "            break\n",
    "        \n",
    "    return x[:i+1],y[:i+1]"
   ]
  },
  {
   "cell_type": "code",
   "execution_count": 366,
   "id": "aa18ab6b",
   "metadata": {},
   "outputs": [],
   "source": [
    "x,y = rk4(0,0.5,.5,4)"
   ]
  },
  {
   "cell_type": "code",
   "execution_count": 367,
   "id": "1b68c10b",
   "metadata": {},
   "outputs": [
    {
     "data": {
      "image/png": "[encoded data removed]",
      "text/plain": [
       "<Figure size 720x360 with 1 Axes>"
      ]
     },
     "metadata": {
      "needs_background": "light"
     },
     "output_type": "display_data"
    }
   ],
   "source": [
    "fig,ax = plt.subplots(figsize=(10,5))\n",
    "ax.spines['right'].set_color('none')\n",
    "ax.spines['top'].set_color('none')\n",
    "\n",
    "ax.plot(x,y,'-.r',label = \"Adaptive 4th Order RK method\")\n",
    "\n",
    "ax.xaxis.set_ticks_position('bottom')\n",
    "ax.spines['bottom'].set_position(('data',0)) # set position of x spine to x=0\n",
    "\n",
    "ax.yaxis.set_ticks_position('left')\n",
    "ax.spines['left'].set_position(('data',0))   # set position of y spine to y=0\n",
    "\n",
    "ax.grid('True')\n",
    "\n",
    "ax.set_ylim([0,3])\n",
    "ax.set_xlim([0,4])\n",
    "\n",
    "ax.set_xlabel(r'$t$')\n",
    "ax.set_ylabel(r'$y(t)$')\n",
    "\n",
    "plt.legend()\n",
    "\n",
    "plt.show()"
   ]
  },
  {
   "cell_type": "code",
   "execution_count": 368,
   "id": "0cb52b83",
   "metadata": {},
   "outputs": [
    {
     "data": {
      "image/png": "[encoded data removed]",
      "text/latex": [
       "$\\displaystyle \\left[ 0, \\  \\frac{r - 1}{r}, \\  \\frac{r - \\sqrt{r^{2} - 2 r - 3} + 1}{2 r}, \\  \\frac{r + \\sqrt{r^{2} - 2 r - 3} + 1}{2 r}\\right]$"
      ],
      "text/plain": [
       "⎡                 ______________             ______________    ⎤\n",
       "⎢                ╱  2                       ╱  2               ⎥\n",
       "⎢   r - 1  r - ╲╱  r  - 2⋅r - 3  + 1  r + ╲╱  r  - 2⋅r - 3  + 1⎥\n",
       "⎢0, ─────, ─────────────────────────, ─────────────────────────⎥\n",
       "⎣     r               2⋅r                        2⋅r           ⎦"
      ]
     },
     "execution_count": 368,
     "metadata": {},
     "output_type": "execute_result"
    }
   ],
   "source": [
    "x,r = sp.symbols('x,r')\n",
    "f = x - x*r**2*(1-x)*(1-r*x+r*x**2)\n",
    "sp.solve(f,x)"
   ]
  }
 ],
 "metadata": {
  "kernelspec": {
   "display_name": "Python 3 (ipykernel)",
   "language": "python",
   "name": "python3"
  },
  "language_info": {
   "codemirror_mode": {
    "name": "ipython",
    "version": 3
   },
   "file_extension": ".py",
   "mimetype": "text/x-python",
   "name": "python",
   "nbconvert_exporter": "python",
   "pygments_lexer": "ipython3",
   "version": "3.9.12"
  },
  "widgets": {
   "application/vnd.jupyter.widget-state+json": {
    "state": {
     "329804b95bfc406d83cebbaa0cc8a872": {
      "model_module": "@jupyter-widgets/controls",
      "model_module_version": "1.5.0",
      "model_name": "FloatSliderModel",
      "state": {
       "description": "rate(r)",
       "layout": "IPY_MODEL_38a36d79aaa24e4cad268570474a578f",
       "max": 4,
       "step": 0.01,
       "style": "IPY_MODEL_a8a13b503df44c4cab6da9bac9ebd460",
       "value": 3.67
      }
     },
     "38a36d79aaa24e4cad268570474a578f": {
      "model_module": "@jupyter-widgets/base",
      "model_module_version": "1.2.0",
      "model_name": "LayoutModel",
      "state": {}
     },
     "787da712cfb346edb6f7b4c8ee8d32dd": {
      "model_module": "@jupyter-widgets/output",
      "model_module_version": "1.0.0",
      "model_name": "OutputModel",
      "state": {
       "layout": "IPY_MODEL_f6edd0df31254c93846e3d84f51d9a25"
      }
     },
     "8c8fe775f22a40abb2d09da8d147b1af": {
      "model_module": "@jupyter-widgets/base",
      "model_module_version": "1.2.0",
      "model_name": "LayoutModel",
      "state": {}
     },
     "922300bbc0ae4e35ad88f3ed447ef8af": {
      "model_module": "@jupyter-widgets/base",
      "model_module_version": "1.2.0",
      "model_name": "LayoutModel",
      "state": {}
     },
     "a87de64930254419bea1b646d6d2516e": {
      "model_module": "@jupyter-widgets/controls",
      "model_module_version": "1.5.0",
      "model_name": "SliderStyleModel",
      "state": {
       "description_width": ""
      }
     },
     "a8a13b503df44c4cab6da9bac9ebd460": {
      "model_module": "@jupyter-widgets/controls",
      "model_module_version": "1.5.0",
      "model_name": "SliderStyleModel",
      "state": {
       "description_width": ""
      }
     },
     "c5912b8f6ffb44458f7127af6df3f444": {
      "model_module": "@jupyter-widgets/controls",
      "model_module_version": "1.5.0",
      "model_name": "VBoxModel",
      "state": {
       "_dom_classes": [
        "widget-interact"
       ],
       "children": [
        "IPY_MODEL_329804b95bfc406d83cebbaa0cc8a872",
        "IPY_MODEL_f76dfe077d9649369a7e79d13a651d8d",
        "IPY_MODEL_787da712cfb346edb6f7b4c8ee8d32dd"
       ],
       "layout": "IPY_MODEL_922300bbc0ae4e35ad88f3ed447ef8af"
      }
     },
     "f6edd0df31254c93846e3d84f51d9a25": {
      "model_module": "@jupyter-widgets/base",
      "model_module_version": "1.2.0",
      "model_name": "LayoutModel",
      "state": {}
     },
     "f76dfe077d9649369a7e79d13a651d8d": {
      "model_module": "@jupyter-widgets/controls",
      "model_module_version": "1.5.0",
      "model_name": "FloatSliderModel",
      "state": {
       "description": "ini. Pop.:$x_{i}$",
       "layout": "IPY_MODEL_8c8fe775f22a40abb2d09da8d147b1af",
       "max": 1,
       "step": 0.01,
       "style": "IPY_MODEL_a87de64930254419bea1b646d6d2516e",
       "value": 0.5
      }
     }
    },
    "version_major": 2,
    "version_minor": 0
   }
  }
 },
 "nbformat": 4,
 "nbformat_minor": 5
}
